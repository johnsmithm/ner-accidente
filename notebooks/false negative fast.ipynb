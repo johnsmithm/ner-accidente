{
 "cells": [
  {
   "cell_type": "code",
   "execution_count": 3,
   "metadata": {},
   "outputs": [],
   "source": [
    "import os\n",
    "import sys\n",
    "import json\n",
    "import spacy\n",
    "import pandas as pd\n",
    "sys.path.insert(0, \"../scripts\")\n",
    "from nlp.evaluate import evaluate\n",
    "from nlp.evaluate import check_accuracy\n",
    "\n",
    "real_data = os.path.join('../data', 'processed', 'all_records_test_real.plk')\n",
    "records_test_real = pd.read_pickle(real_data).to_records(index=False)\n",
    "testing_data_real = list(records_test_real)\n",
    "\n",
    "generated_data = os.path.join('../data', 'processed', 'all_records_test_generated.plk')\n",
    "records_test_generated = pd.read_pickle(generated_data).to_records(index=False)\n",
    "testing_data_generated = list(records_test_generated)\n"
   ]
  },
  {
   "cell_type": "code",
   "execution_count": 5,
   "metadata": {},
   "outputs": [],
   "source": [
    "\n",
    "\n",
    "nlp = spacy.load('../src/models')\n",
    "##########################################\n",
    "results_real = evaluate(nlp, testing_data_real)\n",
    "results_generated = evaluate(nlp, testing_data_generated)"
   ]
  },
  {
   "cell_type": "code",
   "execution_count": 6,
   "metadata": {},
   "outputs": [
    {
     "data": {
      "text/plain": [
       "{'uas': 0.0,\n",
       " 'las': 0.0,\n",
       " 'las_per_type': {'nsubj': {'p': 0.0, 'r': 0.0, 'f': 0.0},\n",
       "  'amod': {'p': 0.0, 'r': 0.0, 'f': 0.0},\n",
       "  'det': {'p': 0.0, 'r': 0.0, 'f': 0.0},\n",
       "  'nmod': {'p': 0.0, 'r': 0.0, 'f': 0.0},\n",
       "  'nummod': {'p': 0.0, 'r': 0.0, 'f': 0.0},\n",
       "  'aux': {'p': 0.0, 'r': 0.0, 'f': 0.0},\n",
       "  'root': {'p': 0.0, 'r': 0.0, 'f': 0.0},\n",
       "  'mark': {'p': 0.0, 'r': 0.0, 'f': 0.0},\n",
       "  'fixed': {'p': 0.0, 'r': 0.0, 'f': 0.0},\n",
       "  'aux:pass': {'p': 0.0, 'r': 0.0, 'f': 0.0},\n",
       "  'advcl': {'p': 0.0, 'r': 0.0, 'f': 0.0},\n",
       "  'nsubj:pass': {'p': 0.0, 'r': 0.0, 'f': 0.0},\n",
       "  'case': {'p': 0.0, 'r': 0.0, 'f': 0.0},\n",
       "  'obl': {'p': 0.0, 'r': 0.0, 'f': 0.0},\n",
       "  'conj': {'p': 0.0, 'r': 0.0, 'f': 0.0},\n",
       "  'advmod': {'p': 0.0, 'r': 0.0, 'f': 0.0},\n",
       "  'obj': {'p': 0.0, 'r': 0.0, 'f': 0.0},\n",
       "  'acl': {'p': 0.0, 'r': 0.0, 'f': 0.0},\n",
       "  'iobj': {'p': 0.0, 'r': 0.0, 'f': 0.0},\n",
       "  'flat': {'p': 0.0, 'r': 0.0, 'f': 0.0},\n",
       "  'nmod:tmod': {'p': 0.0, 'r': 0.0, 'f': 0.0},\n",
       "  'expl:pv': {'p': 0.0, 'r': 0.0, 'f': 0.0},\n",
       "  'xcomp': {'p': 0.0, 'r': 0.0, 'f': 0.0},\n",
       "  'cop': {'p': 0.0, 'r': 0.0, 'f': 0.0},\n",
       "  'cc': {'p': 0.0, 'r': 0.0, 'f': 0.0},\n",
       "  'csubj': {'p': 0.0, 'r': 0.0, 'f': 0.0},\n",
       "  'ccomp': {'p': 0.0, 'r': 0.0, 'f': 0.0},\n",
       "  'parataxis': {'p': 0.0, 'r': 0.0, 'f': 0.0},\n",
       "  'expl:pass': {'p': 0.0, 'r': 0.0, 'f': 0.0}},\n",
       " 'ents_p': 84.14634146341463,\n",
       " 'ents_r': 84.14634146341463,\n",
       " 'ents_f': 84.14634146341463,\n",
       " 'ents_per_type': {'LOC_ACCIDENT': {'p': 84.14634146341463,\n",
       "   'r': 84.14634146341463,\n",
       "   'f': 84.14634146341463}},\n",
       " 'tags_acc': 0.0,\n",
       " 'token_acc': 100.0,\n",
       " 'textcat_score': 0.0,\n",
       " 'textcats_per_cat': {}}"
      ]
     },
     "execution_count": 6,
     "metadata": {},
     "output_type": "execute_result"
    }
   ],
   "source": [
    "results_real"
   ]
  },
  {
   "cell_type": "code",
   "execution_count": 7,
   "metadata": {},
   "outputs": [
    {
     "name": "stdout",
     "output_type": "stream",
     "text": [
      "9 \"<= correct | Real_data | wrong =>\", 12\n",
      "Guessed: 9 from 21 which is 42.857142857142854%\n",
      "--------------------------------------------------\n"
     ]
    }
   ],
   "source": [
    "dict_with_phrases_real, dict_false_positive_real, dict_false_negative_real =  check_accuracy(testing_data_real, model=nlp, test_set_name='Real_data')"
   ]
  },
  {
   "cell_type": "code",
   "execution_count": 8,
   "metadata": {},
   "outputs": [
    {
     "data": {
      "text/plain": [
       "{0: 'o soferita varsta 33 ani din chisinau a ajuns cu masina intr un panou publicitar dupa ce a derapat pe traseu accidentul sa produsaceasta dimineata pe soseaua hancesti telecentru',\n",
       " 1: 'a avut loc prima jumatate a acestei zile jurul orei 12:00 cu implicarea unei masini serviciu a politiei acesta a avut loc intersectia bulevardului stefan cel mare si sfant cu strada armeneasca din chisinau',\n",
       " 2: 'trei femei au ajuns spital aceasta dimineata dupa ce microbuzul care se aflau sa ciocnit cu un automobil impactul a avut loc intersectia bulevardului dacia cu strada trandafirilor din chisinau',\n",
       " 3: 'accident violent pe traseul chisinau balti apropiere satul lupa recea doua persoane tata si fiica au fost un pas moarte dupa ce masina cu care se deplasau a derapat pe traseu si sa rostogolit cateva ori',\n",
       " 4: 'au scapat nevatamati urma unui accident rutier incidentul a avut loc din cauza neatentiei unuia dintre conducatorii auto intersectia strazilor ion creanga si eugen coca din sectorul buiucani al capitalei',\n",
       " 5: 'potrivit autorului fotografiilor accidentul sa produs dimineata zilei luni pe strada visarion belinschi din sectorul buiucani al capitalei un automobil marca toyota sa ciocnit cu un chryrada visarion belinschi din sector',\n",
       " 6: 'doua masini sau ciocnit dupa ce soferii se pare ca nu au putut imparti drumul pe bd stefan cel mare si sfant apropiere intersectia cu strada petru movila cel mai probabil victime nu sunt insa unul dintre soferi va trebui sa achite despagubiri',\n",
       " 7: 'potrivit martorului ocular accidentul sa produs intersectia strazilor vasile alecsandri si bucuresti din centru capitalei',\n",
       " 8: 'o masina a politiei din chisinau sa ciocnit lateral cu un automobil aceasta dimineata intersectia strazilor studentilor si calea orheiului',\n",
       " 9: 'accident pe podul pe strada ismail intersectie cu strada albisoara din chisinau un motociclist sa lovit intr un automobil model bmw iar apoi intr un mercedes',\n",
       " 10: 'intersectia strazilor vadul lui voda cu mesterul manole din capitala a fost inregistrat un accident rutier cu implicarea a trei autovehicule inspectorii patrulare au interven',\n",
       " 11: 'potrivt politei accidentul a avut loc acum o ora pe podul intersectia strazilor muncesti cu gradina botanica soferul mercedes ului ar fi pierdut controlul volanului a derapat si sa rasturnat'}"
      ]
     },
     "execution_count": 8,
     "metadata": {},
     "output_type": "execute_result"
    }
   ],
   "source": [
    "dict_with_phrases_real"
   ]
  },
  {
   "cell_type": "code",
   "execution_count": 9,
   "metadata": {},
   "outputs": [
    {
     "data": {
      "text/plain": [
       "{0: [(167, 177, 'LOC_ACCIDENT')],\n",
       " 1: [],\n",
       " 2: [(166, 179, 'LOC_ACCIDENT')],\n",
       " 3: [(43, 52, 'LOC_ACCIDENT'),\n",
       "  (37, 42, 'LOC_ACCIDENT'),\n",
       "  (53, 58, 'LOC_ACCIDENT')],\n",
       " 4: [(182, 190, 'LOC_ACCIDENT')],\n",
       " 5: [(94, 103, 'LOC_ACCIDENT'), (85, 93, 'LOC_ACCIDENT')],\n",
       " 6: [(81, 83, 'LOC_ACCIDENT'), (154, 157, 'LOC_ACCIDENT')],\n",
       " 7: [],\n",
       " 8: [],\n",
       " 9: [(57, 66, 'LOC_ACCIDENT'), (50, 56, 'LOC_ACCIDENT')],\n",
       " 10: [(37, 39, 'LOC_ACCIDENT')],\n",
       " 11: []}"
      ]
     },
     "execution_count": 9,
     "metadata": {},
     "output_type": "execute_result"
    }
   ],
   "source": [
    "dict_false_positive_real"
   ]
  },
  {
   "cell_type": "code",
   "execution_count": 10,
   "metadata": {},
   "outputs": [
    {
     "data": {
      "text/plain": [
       "{0: [],\n",
       " 1: [(166, 171, 'LOC_ACCIDENT')],\n",
       " 2: [],\n",
       " 3: [(64, 69, 'LOC_ACCIDENT')],\n",
       " 4: [(164, 168, 'LOC_ACCIDENT')],\n",
       " 5: [(182, 190, 'LOC_ACCIDENT')],\n",
       " 6: [(103, 108, 'LOC_ACCIDENT')],\n",
       " 7: [(91, 100, 'LOC_ACCIDENT')],\n",
       " 8: [(108, 119, 'LOC_ACCIDENT')],\n",
       " 9: [(12, 17, 'LOC_ACCIDENT')],\n",
       " 10: [(40, 48, 'LOC_ACCIDENT')],\n",
       " 11: [(92, 99, 'LOC_ACCIDENT'),\n",
       "  (80, 88, 'LOC_ACCIDENT'),\n",
       "  (52, 57, 'LOC_ACCIDENT'),\n",
       "  (100, 108, 'LOC_ACCIDENT')]}"
      ]
     },
     "execution_count": 10,
     "metadata": {},
     "output_type": "execute_result"
    }
   ],
   "source": [
    "dict_false_negative_real"
   ]
  },
  {
   "cell_type": "code",
   "execution_count": 14,
   "metadata": {},
   "outputs": [
    {
     "name": "stdout",
     "output_type": "stream",
     "text": [
      "o soferita varsta 33 ani din chisinau a ajuns cu masina intr un panou publicitar dupa ce a derapat pe traseu accidentul sa produsaceasta dimineata pe soseaua hancesti {telecentru\n",
      "\n",
      "a avut loc prima jumatate a acestei zile jurul orei 12:00 cu implicarea unei masini serviciu a politiei acesta a avut loc intersectia bulevardului stefan cel mare si sfant cu strada armeneasca din chisinau\n",
      "\n",
      "trei femei au ajuns spital aceasta dimineata dupa ce microbuzul care se aflau sa ciocnit cu un automobil impactul a avut loc intersectia bulevardului dacia cu strada {trandafirilor} din chisinau\n",
      "\n",
      "accident violent pe traseul chisinau {balti} {apropiere} {satul} lupa recea doua persoane tata si fiica au fost un pas moarte dupa ce masina cu care se deplasau a derapat pe traseu si sa rostogolit cateva ori\n",
      "\n",
      "au scapat nevatamati urma unui accident rutier incidentul a avut loc din cauza neatentiei unuia dintre conducatorii auto intersectia strazilor ion creanga si eugen coca din sectorul {buiucani} al capitalei\n",
      "\n",
      "potrivit autorului fotografiilor accidentul sa produs dimineata zilei luni pe strada {visarion} {belinschi} din sectorul buiucani al capitalei un automobil marca toyota sa ciocnit cu un chryrada visarion belinschi din sector\n",
      "\n",
      "doua masini sau ciocnit dupa ce soferii se pare ca nu au putut imparti drumul pe {bd} stefan cel mare si sfant apropiere intersectia cu strada petru movila {cel} mai probabil victime nu sunt insa unul dintre soferi va trebui sa achite despagubiri\n",
      "\n",
      "potrivit martorului ocular accidentul sa produs intersectia strazilor vasile alecsandri si bucuresti din centru capitalei\n",
      "\n",
      "o masina a politiei din chisinau sa ciocnit lateral cu un automobil aceasta dimineata intersectia strazilor studentilor si calea orheiului\n",
      "\n",
      "accident pe podul pe strada ismail intersectie cu {strada} {albisoara} din chisinau un motociclist sa lovit intr un automobil model bmw iar apoi intr un mercedes\n",
      "\n",
      "intersectia strazilor vadul lui voda {cu} mesterul manole din capitala a fost inregistrat un accident rutier cu implicarea a trei autovehicule inspectorii patrulare au interven\n",
      "\n",
      "potrivt politei accidentul a avut loc acum o ora pe podul intersectia strazilor muncesti cu gradina botanica soferul mercedes ului ar fi pierdut controlul volanului a derapat si sa rasturnat\n",
      "\n"
     ]
    }
   ],
   "source": [
    "for r,f in zip(dict_with_phrases_real.values(), dict_false_positive_real.values()):\n",
    "    op = []\n",
    "    cl = []\n",
    "    for o,c,_ in f:\n",
    "        op.append(o)\n",
    "        cl.append(c)\n",
    "    o = ''\n",
    "    for i,c in enumerate(r):\n",
    "        if i in op:\n",
    "            o += '{'\n",
    "        if i in cl:\n",
    "            o += '}'\n",
    "        o+=c\n",
    "    print(o)\n",
    "    print()"
   ]
  },
  {
   "cell_type": "code",
   "execution_count": 19,
   "metadata": {},
   "outputs": [
    {
     "name": "stdout",
     "output_type": "stream",
     "text": [
      "o soferita varsta 33 ani din chisinau a ajuns cu masina intr un panou publicitar dupa ce a derapat pe traseu accidentul sa produsaceasta dimineata pe soseaua hancesti telecentru\n",
      "\n",
      "a avut loc prima jumatate a acestei zile jurul orei 12:00 cu implicarea unei masini serviciu a politiei acesta a avut loc intersectia bulevardului stefan cel mare si {sfant} cu strada armeneasca din chisinau\n",
      "\n",
      "trei femei au ajuns spital aceasta dimineata dupa ce microbuzul care se aflau sa ciocnit cu un automobil impactul a avut loc intersectia bulevardului dacia cu strada trandafirilor din chisinau\n",
      "\n",
      "accident violent pe traseul chisinau balti apropiere satul lupa {recea} doua persoane tata si fiica au fost un pas moarte dupa ce masina cu care se deplasau a derapat pe traseu si sa rostogolit cateva ori\n",
      "\n",
      "au scapat nevatamati urma unui accident rutier incidentul a avut loc din cauza neatentiei unuia dintre conducatorii auto intersectia strazilor ion creanga si eugen {coca} din sectorul buiucani al capitalei\n",
      "\n",
      "potrivit autorului fotografiilor accidentul sa produs dimineata zilei luni pe strada visarion belinschi din sectorul buiucani al capitalei un automobil marca toyota sa ciocnit cu un {chryrada} visarion belinschi din sector\n",
      "\n",
      "doua masini sau ciocnit dupa ce soferii se pare ca nu au putut imparti drumul pe bd stefan cel mare si {sfant} apropiere intersectia cu strada petru movila cel mai probabil victime nu sunt insa unul dintre soferi va trebui sa achite despagubiri\n",
      "\n",
      "potrivit martorului ocular accidentul sa produs intersectia strazilor vasile alecsandri si {bucuresti} din centru capitalei\n",
      "\n",
      "o masina a politiei din chisinau sa ciocnit lateral cu un automobil aceasta dimineata intersectia strazilor {studentilor} si calea orheiului\n",
      "\n",
      "accident pe {podul} pe strada ismail intersectie cu strada albisoara din chisinau un motociclist sa lovit intr un automobil model bmw iar apoi intr un mercedes\n",
      "\n",
      "intersectia strazilor vadul lui voda cu {mesterul} manole din capitala a fost inregistrat un accident rutier cu implicarea a trei autovehicule inspectorii patrulare au interven\n",
      "\n",
      "potrivt politei accidentul a avut loc acum o ora pe {podul} intersectia strazilor {muncesti} cu {gradina} {botanica} soferul mercedes ului ar fi pierdut controlul volanului a derapat si sa rasturnat\n",
      "\n"
     ]
    }
   ],
   "source": [
    "def f(dict_with_phrases_real, other):\n",
    "    te= ''\n",
    "    for r,f in zip(dict_with_phrases_real.values(), other.values()):\n",
    "        op = []\n",
    "        cl = []\n",
    "        for o,c,_ in f:\n",
    "            op.append(o)\n",
    "            cl.append(c)\n",
    "        o = ''\n",
    "        for i,c in enumerate(r):\n",
    "            if i in op:\n",
    "                o += '{'\n",
    "            if i in cl:\n",
    "                o += '}'\n",
    "            o+=c\n",
    "        print(o)\n",
    "        print()\n",
    "        te+= o+'\\n\\n'\n",
    "    return te\n",
    "te = f(dict_with_phrases_real, dict_false_negative_real)"
   ]
  },
  {
   "cell_type": "code",
   "execution_count": 20,
   "metadata": {},
   "outputs": [],
   "source": [
    "with open('somefile.txt', 'a') as the_file:\n",
    "    the_file.write(te)"
   ]
  },
  {
   "cell_type": "code",
   "execution_count": null,
   "metadata": {},
   "outputs": [],
   "source": []
  }
 ],
 "metadata": {
  "kernelspec": {
   "display_name": "Python 3",
   "language": "python",
   "name": "python3"
  },
  "language_info": {
   "codemirror_mode": {
    "name": "ipython",
    "version": 3
   },
   "file_extension": ".py",
   "mimetype": "text/x-python",
   "name": "python",
   "nbconvert_exporter": "python",
   "pygments_lexer": "ipython3",
   "version": "3.7.6"
  }
 },
 "nbformat": 4,
 "nbformat_minor": 4
}
