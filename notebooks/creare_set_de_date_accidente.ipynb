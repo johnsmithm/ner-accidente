{
 "cells": [
  {
   "cell_type": "code",
   "execution_count": 1,
   "metadata": {
    "colab": {
     "base_uri": "https://localhost:8080/"
    },
    "id": "_T9s4mzgDv-r",
    "outputId": "4a6e6f3d-ad64-4bfe-b0cb-c2f896dac2df"
   },
   "outputs": [],
   "source": [
    "import pandas as pd\n",
    "import csv\n",
    "import requests\n",
    "import json\n",
    "# !pip3 install fuzzywuzzy\n",
    "# !pip3 install fuzzysearch\n",
    "# !pip3 install bs4\n",
    "# !pip3 install python-Levenshtein\n",
    "from fuzzysearch import find_near_matches\n",
    "from bs4 import BeautifulSoup\n",
    "import numpy as np\n",
    "from fuzzywuzzy import process"
   ]
  },
  {
   "cell_type": "code",
   "execution_count": 2,
   "metadata": {
    "colab": {
     "base_uri": "https://localhost:8080/",
     "height": 178
    },
    "id": "1t42IfF5Eon1",
    "outputId": "8dcf42f2-d8e1-4cfc-d1da-d09f5ac32f9c"
   },
   "outputs": [],
   "source": [
    "with open('../data/raw/generate_data/x.txt') as json_file: \n",
    "    x = json.load(json_file)"
   ]
  },
  {
   "cell_type": "code",
   "execution_count": 3,
   "metadata": {
    "colab": {
     "base_uri": "https://localhost:8080/",
     "height": 229
    },
    "id": "IooToOyvEk6y",
    "outputId": "48c6ef18-3cb4-4672-f23c-71aed9e97890"
   },
   "outputs": [
    {
     "data": {
      "text/plain": [
       "[{'objectid': '1',\n",
       "  'sector': 'Botanica',\n",
       "  'time': '2/24/2018 1:18',\n",
       "  'location': 'str. Melestiu 20/2',\n",
       "  'source': ' ',\n",
       "  'cars': '0',\n",
       "  'trucks': '0',\n",
       "  'motorcycle': '0',\n",
       "  'bicycle': '0',\n",
       "  'publictransport': '0',\n",
       "  'pedestrian': '0',\n",
       "  'other': '0',\n",
       "  'placename': ' ',\n",
       "  'photo': ' ',\n",
       "  'video': ' ',\n",
       "  'photo_link': '',\n",
       "  'video_link': '',\n",
       "  'day_night': '0',\n",
       "  'raion': 'Chişinău',\n",
       "  'comuna': 'Chişinău',\n",
       "  'localitate': 'Chişinău',\n",
       "  'year': '2018',\n",
       "  'month': '12',\n",
       "  'hour': '0',\n",
       "  'weekday': '5',\n",
       "  'day_part': 'noapte',\n",
       "  'location_trasee': '',\n",
       "  'street': 'Bulevardul Dacia',\n",
       "  'tipul': 'Ciocnire fata in spate',\n",
       "  'cauza': 'Nerespectarea distantei dintre vehicule',\n",
       "  'decedati': '0',\n",
       "  'traumati': '1'}]"
      ]
     },
     "execution_count": 3,
     "metadata": {},
     "output_type": "execute_result"
    }
   ],
   "source": [
    "a = []\n",
    "hd = None\n",
    "with open('../data/raw/generate_data/ArticleLinks.csv') as csvfile:\n",
    "    readCSV = csv.reader(csvfile, delimiter=',')\n",
    "    for row in readCSV:\n",
    "        if hd is None:\n",
    "          hd = row\n",
    "          continue\n",
    "        a.append({u: row[i] for i,u in enumerate(hd)})\n",
    "a[:1]"
   ]
  },
  {
   "cell_type": "code",
   "execution_count": 4,
   "metadata": {},
   "outputs": [],
   "source": [
    "def savepack(name,x, header):\n",
    "  with open(name, 'w', newline='') as file:\n",
    "    writer = csv.writer(file)\n",
    "    writer.writerow(header)\n",
    "    for i in x:\n",
    "      writer.writerow(i)"
   ]
  },
  {
   "cell_type": "code",
   "execution_count": 5,
   "metadata": {
    "colab": {
     "base_uri": "https://localhost:8080/",
     "height": 35
    },
    "id": "RByaAJsh0B2Y",
    "outputId": "5c9659a5-eb86-4140-8b0c-f36c4fea138f"
   },
   "outputs": [
    {
     "data": {
      "text/plain": [
       "'strada decebal'"
      ]
     },
     "execution_count": 5,
     "metadata": {},
     "output_type": "execute_result"
    }
   ],
   "source": [
    "from nltk.stem.snowball import RomanianStemmer\n",
    "st = RomanianStemmer()\n",
    "sw = ['la','in','de', 'r', 'm','2']\n",
    "def preprocesare(p):\n",
    "  #return p\n",
    "  diacritice = [['ș','s'],['ş','s'],['î','i'],['ă','a'],['ț','t'],['â','a'],['.',''],[',',''],['ţ','t']]\n",
    "  schimb = [['str', 'strada'],['bd','bulevard'],['muncest','munc']]\n",
    "  r = []\n",
    "  p=p.replace('-',' ')\n",
    "  for w in p.split(' '):\n",
    "    w = w.strip().lower()\n",
    "    \n",
    "    if len(w)==0:\n",
    "      continue\n",
    "    #w = st.stem(w)\n",
    "    for f,t in diacritice:\n",
    "      w=w.replace(f,t)\n",
    "    for f,t in schimb[2:]:\n",
    "      w.replace(f,t)\n",
    "    if w in sw:\n",
    "      continue\n",
    "    r.append(w)\n",
    "  return ' '.join(r)\n",
    "\n",
    "preprocesare('strada Decebal')"
   ]
  },
  {
   "cell_type": "code",
   "execution_count": 6,
   "metadata": {
    "colab": {
     "base_uri": "https://localhost:8080/",
     "height": 229
    },
    "id": "h916UmchJgEm",
    "outputId": "c4a44464-c022-431d-c755-75b16ef44e12"
   },
   "outputs": [],
   "source": [
    "db = []\n",
    "for v,i in x:\n",
    "  o = {'id':i,'text':[preprocesare(v1) for v1 in v]}\n",
    "  for p in ['localitate', 'location', 'street','pedestrian','decedati','sector','photo_link']:\n",
    "    o[p] = preprocesare(a[i][p])\n",
    "  db.append(o)"
   ]
  },
  {
   "cell_type": "code",
   "execution_count": 7,
   "metadata": {
    "colab": {
     "base_uri": "https://localhost:8080/",
     "height": 35
    },
    "id": "J1VMoY-W777Y",
    "outputId": "2fdf46ad-43be-4852-8af3-ba9eb6f64ae9"
   },
   "outputs": [
    {
     "data": {
      "text/plain": [
       "'1'"
      ]
     },
     "execution_count": 7,
     "metadata": {},
     "output_type": "execute_result"
    }
   ],
   "source": [
    "i=0\n",
    "kw = ['tamponat', 'sofer', 'tampon', 'produs', 'avariat', 'accident','masin','ciocnit','incident','derap','impact','virar','intrat','traged','coliziun','lovit','mortal','pierdut','rasturnat']\n",
    "verb = ['produs','apropiere','dat','intrat','fost','integistrat']\n",
    "same = [['produs','avut loc','intamplat'],['masina','rutiera','autobuz','moticicleta'],['pieton','femeie','barbat','copil','victim','decedat','traumat'],\n",
    "        ['accident','tragedie','coloziun','incident'],\n",
    "        ['ciocnit','derapat','tamponat','derap','rasturnat']\n",
    "        ]\n",
    "bad = ['locuit','este din','originar din','locu']\n",
    "sv = []\n",
    "def checkprop(t):\n",
    "      ww = [st.stem(w) for w in t.split(' ') if len(w)>0]\n",
    "      #print(ww)\n",
    "      ac = '0'\n",
    "      for k in kw:\n",
    "        if k in ww:\n",
    "          ac='1'\n",
    "      for k in bad:\n",
    "        if k in ww:\n",
    "          ac='0-'\n",
    "      \n",
    "      return ac\n",
    "#savepack('../data/raw/generate_data/s.csv',sv,['id','text','y','com'])\n",
    "checkprop('0 un sofer a tamponat o femeie pe trecerea pietoni intersectia bd decebal cu strada trandafirilor potrivit politiei persoana')"
   ]
  },
  {
   "cell_type": "code",
   "execution_count": 8,
   "metadata": {
    "colab": {
     "base_uri": "https://localhost:8080/"
    },
    "id": "HNHxCECRNlxP",
    "outputId": "eb53eed3-2a43-4ff6-a287-8aaac33a301a"
   },
   "outputs": [
    {
     "name": "stdout",
     "output_type": "stream",
     "text": [
      "+ bulevardul decebal strada trandafirilor\n",
      "- decebal strada trandafirilor\n",
      "1 - un sofer a tamponat o femeie pe trecerea pietoni intersectia bd ||decebal|| cu ||strada|| ||trandafirilor|| potrivit politiei persoana traumata a fost luata o ambulanta si transportata urgenta spital\n",
      "[64],[75],[82]\n",
      "+ traseul spre localitatea cheltuitori\n",
      "- traseul spre localitatea cheltuitori\n",
      "0 - aseara jurul orei 2330 politia capitalei a fost alertata despre inversarea unui automobil pe ||traseul|| ce duce ||spre|| ||localitatea|| ||cheltuitori|| soldat cu decesul unei persoane si altele trei traumatizate grav fata locului au intervenit grupa ope\n",
      "[93],[109],[114],[126]\n",
      "+ soseaua muncesti\n",
      "- soseaua muncesti\n",
      "1 - accidentul s a intamplat aceasta dimineata pe ||soseaua|| ||muncesti|| din capitala\n",
      "[46],[54]\n",
      "+ soseaua muncesti\n",
      "- soseaua muncesti\n",
      "1 - un pieton a fost spulberat mortal aseara un taxi accidentul s a produs pe ||soseaua|| ||muncesti|| din capitala jurul orei 21:00\n",
      "[74],[82]\n",
      "+ strada trandafirilor\n",
      "- strada trandafirilor\n",
      "1 - accidentul a avut loc sectorul botanica pe ||strada|| ||trandafirilor|| jurul orei 20:00\n",
      "[43],[50]\n",
      "+ bulevardul dacia bulevardul traian\n",
      "- bulevardel dacia traian\n",
      "1 - doua masini s au ciocnit aseara intersectia ||bulevardel||or ||dacia|| si ||traian|| din capitala urma impactului un taxi s a rasturnat iar celalalt automobil a fost avariat\n",
      "[44],[57],[66]\n",
      "+ strada columna strada maria cibotari\n",
      "- columna maria cebotari\n",
      "1 - accident rutier intersectia strazilor ||columna|| – ||maria|| ||cebotari|| dupa ce un automobil model „bmw” volanul caruia se afla un sofer varsta 22 ani a fost lovit un kamaz urma acestuia un pasager a suf\n",
      "[38],[48],[54]\n",
      "+ strada columna strada maria cibotari\n",
      "- columna maria cebotari\n",
      "1 - (update/foto) accident intersectia ||columna|| ||maria|| ||cebotari||: un automobil a fost lovit un kamaz\n",
      "[35],[43],[49]\n",
      "+ strada columna strada maria cibotari\n",
      "- columna maria cebotari\n",
      "1 - (update/foto) accident intersectia ||columna|| ||maria|| ||cebotari||: un automobil a fost lovit un kamaz\n",
      "[35],[43],[49]\n",
      "+ strada ivano franko strada bulgara\n",
      "- ivano franco bulgara\n",
      "1 - accident evitat ca prin minune s a intamplat astazi balti intersectia strazilor ||ivano|| ||franco|| cu ||bulgara||\n",
      "[80],[86],[96]\n",
      "+ strada mihai viteazul\n",
      "- strada mihai viteazul\n",
      "1 - accidentul a avut loc pe ||strada|| ||mihai|| ||viteazul|| din capitala\n",
      "[25],[32],[38]\n",
      "+ bulevardul stefan cel mare si sfant strada sfatul tarii\n",
      "- stefan cel mare sfat sfatul tarii\n",
      "1 - accident grav capitala intersectia strazilor ||sfat||ul tarii si stefan cel mare doua autovehicole s au ciocnit violent imaginea a fost distribuita pe o retea socializare un martor oc||sfatul|| ||tarii|| si ||stefan||\n",
      "[61],[68],[72],[45],[45],[52]\n",
      "+ strada calea iesilor apropiere strada mesager\n",
      "- strada calea iesilor apropiere mesager\n",
      "1 - accident pe ||strada|| ||calea|| ||iesilor|| din capitala ||apropiere|| intersectia cu strada ||mesager|| un automobil model bmw a ajuns intr un stalp soferul autoturismului a fost transportat spital s\n",
      "[12],[19],[25],[46],[78]\n",
      "+ strada calea iesilor strada mesager\n",
      "- strada calea iesilor\n",
      "1 - accidentul a avut loc aseara pe ||strada|| ||calea|| ||iesilor|| din sectorul buiucani al capitalei trecatorii au fost primii care au scos victimele din automobilele avariate \"soferul era rasufla n\n",
      "[32],[39],[45]\n",
      "+ strada alba iulia strada sucevita\n",
      "- alba iulia sucevita\n",
      "1 - accident capitala! doua automobile s au ciocnit intersectia strazii ||alba|| ||iulia|| cu ||sucevita|| informeaza agora\n",
      "potrivi martorilor oculari fata locului se afla politia nu au fost inregistrati raniti\n",
      "[68],[73],[82]\n",
      "+ buiucani strada alba iulia x strada paris\n",
      "- alba iulia paris\n",
      "1 - accident grav intersectia strazilor ||alba|| ||iulia|| si ||paris|| din capitala o masina model volvo xc90 se afla intr o stare deplorabila dupa ce s a lovit violent o alta masina\n",
      "[36],[41],[50]\n",
      "+ strada vissarion belinski strada ion pelivan\n",
      "- strada vissarion belinski ion pelivan\n",
      "1 - inca un accident rutier s a inregistrat aceasta dimineata pe strada ||vissarion|| belinski intersectie cu strada ion pelivan din capit||ion|| ||belinski|| intersectie cu ||strada|| ion ||pelivan|| din capitala\n",
      "[102],[68],[78],[74],[113]\n",
      "+ strada alba iulia 75/22\n",
      "- strada alba iulia 75/22\n",
      "0- - o masina a politiei a intrat ieri seara jurul orei 23:00 intr un gard al unui bloc locuit pe ||strada|| ||alba|| ||iulia|| ||75/22|| din sectorul buiucani al capitalei\n",
      "[93],[100],[105],[111]\n",
      "+ strada sarnizegetusa apropiere strada burebista\n",
      "- strada sarmisegetuza\n",
      "1 - potrivit politiei totul s a intamplat jurul orei 10:00 pe ||strada|| ||sarmisegetuza|| din sectorul botanica al capitalei un mercedes a fost grav avariat dupa ce s a ciocnit violent cu o kia\n",
      "[58],[65]\n",
      "+ bulevardul stefan cel mare si sfant apropiere strada mitropolit petru movila\n",
      "- bulevardul stefan cel mare strada petru movila\n",
      "1 - accident dimineata capitala trei masini s au tamponat pe ||bulevardul|| ||stefan|| ||cel|| ||mare|| nu departe ||strada|| ||petru|| ||movila|| un automobil dacia a franat brusc semafor iar alte doua masini nerespectand distanta l au tamponat d\n",
      "[57],[68],[75],[79],[95],[102],[108]\n",
      "+ traseul budesti cruzesti\n",
      "- traseul budesti cruzesti\n",
      "1 - un sofer a decedat fata locului iar masina sa a fost rupta doua propriu dupa unu accident ce a avut loc aceasta dimineata pe ||traseul|| ||budesti|| ||cruzesti|| din municipiul chisinau\n",
      "[125],[133],[141]\n",
      "+ traseul chisinau hancesti intersectir cu satul danceni\n",
      "- traseul chisinau hancesti intersectie satul danceni\n",
      "1 - un barbat 57 ani a fost accidentat mortal duminica seara 22 octombrie pe ||traseul|| ||chisinau|| ||hancesti|| ||intersectie|| cu ||satul|| ||danceni|| soferul a parasit locul accidentului insa scurt timp a fost retinut mentioneaza ipn\n",
      "[73],[81],[90],[99],[114],[120]\n",
      "+ strada vasile alecsandri\n",
      "- strada vasile alecsandri\n",
      "1 - sambata 28 octombrie jurul orei 19:00 pe ||strada|| ||vasile|| ||alecsandri|| din or cahul soferul unui autoturism model „ford” a tamponat un barbat 55 ani soferul vinovat a parasit locul accidentului iar scu\n",
      "[41],[48],[55]\n",
      "+ satul svetlai comrat\n",
      "- svetlai comrat\n",
      "1 - ion focsa seful directiei sud a politiei frontiera a fost implicat data 28 octombrie intr un accident rutier localitatea ||svetlai|| ||comrat||\n",
      "[121],[129]\n",
      "+ traseul chisinau leuseni\n",
      "- traseul chisinau leuseni\n",
      "1 -  fost grav avariate dupa ce au fost implicate intr un accident rutier coliziunea dintre cele doua unitati transport a avut loc sambata 30 septembrie pe ||traseul|| ||chisinau|| ||leuseni||\n",
      "[188],[196],[205]\n",
      "+ strada bucuresti strada sfatul tarii\n",
      "- bucuresti sfatul tarii\n",
      "1 - accident lant intersectia strazilor ||bucuresti|| cu ||sfatul|| ||tarii|| trei automobile s au tamponat violent aceasta dimineata\n",
      "[36],[49],[56]\n",
      "+ strada bucuresti strada sfatul tarii\n",
      "- strada sfatul tarii\n",
      "1 - potrivit martorilor vina se face soferul automobilului marca jaguar circuland pe ||strada|| ||sfatul|| ||tarii|| nu s a asigurat si a lovit automobilul marca mercedes benz care ulterior a lovit un automobil ford\n",
      "[81],[88],[95]\n",
      "+ traseul r7 langa satul rublenita noua\n",
      "- satul rublenita noua\n",
      "1 - ccident soroca cu implicarea unui microbuz ruta un biciclist a decedat dupa ce o maxi taxi a dat peste el tragedia a avut loc jurul orei 20:30 apropiere ||satul|| ||rublenita|| ||noua||\n",
      "[154],[160],[170]\n",
      "+ strada alexei sciusev strada sfatul tarii\n",
      "- alexei sciusev sfatul tarii\n",
      "1 - accidentul a avut loc intersectia strazilor ||sfatul|| ||tarii|| si ||alexei|| ||sciusev|| in urma coleziunii unul dintre automobile a fost proiectat intr un pilon\n",
      "[60],[67],[44],[51]\n",
      "+ strada calea iesilor farmacie\n",
      "- strada calea iesilor\n",
      "1 - accidentul a avut loc sambata seara 23 septembrie jurul orei 19:55 pe ||strada|| ||calea|| ||iesilor|| din municipiul balti\n",
      "[70],[77],[83]\n",
      "+ traseul chisinau rezina apropiere localitatea chipirceni\n",
      "- traseul chisinau rezina apropiere localitatea chipirceni\n",
      "1 - accidentul a avut loc vineri 22 septembrie jurul orei 10:15 pe ||traseul|| ||chisinau|| ||rezina|| ||apropiere|| ||localitatea|| ||chipirceni|| din raionul orhei\n",
      "[63],[71],[80],[87],[97],[109]\n",
      "+ apropiere orasul bender\n",
      "- orasul bender\n",
      "1 - un accident rutier s a produs zilele trecute apropierea podului dintre satul parcani si ||orasul|| ||bender||\n",
      "[88],[95]\n",
      "+ apropiere orasul bender\n",
      "- orasul bender\n",
      "0- - volanul vehicului se afla un locuitor al ||orasul||ui ||bender|| varsta 61 ani\n",
      "[41],[50]\n",
      "+ traseul m2 langa localitatea gozdova floresti\n",
      "- langa localitatea gvozdova floresti\n",
      "1 - pa ce automobilul cu care se deplasa a iesit pe sosea si s a rasturnat accidentul a avut loc dupa amiaza zilei joi 21 septembrie jurul orei 14:14 ||langa|| ||localitatea|| ||gvozdova|| raionul ||floresti||\n",
      "[172],[178],[190],[207]\n",
      "+ traseul ungheni sculeni\n",
      "- ungheni sculeni\n",
      "1 - potrivit politiei totul s a intamplat aseara jurul orei 20:40 pe soseaua ||ungheni|| ||sculeni|| barbatul care se deplasa cu bicicleta a decedat pe loc dupa ce a fost lovit plin o mazda volanul careia se afla un tanar 21 ani\n",
      "[73],[81]\n",
      "+ traseul chisinau ungheni\n",
      "- traseul chisinau ungheni\n",
      "1 - accidentul a avut loc luni 18 septembrie jurul orei 21:50 pe ||traseul|| ||chisinau|| ||ungheni|| potrivit todaymd\n",
      "[61],[69],[78]\n"
     ]
    },
    {
     "name": "stdout",
     "output_type": "stream",
     "text": [
      "+ traseul m3 orasul cimislia\n",
      "- orasul cimislia\n",
      "1 - un accident rutier a avut loc ||orasul|| ||cimislia|| aceasta dimineata urma impactului autotren ului si a unui automobil conducatoarea automobilului efectua virarea spre stanga pe banda dreapt\n",
      "[30],[37]\n",
      "+ strada alba iulia strada ion luca caragiale\n",
      "- strada alba iulia uca\n",
      "1 - un alt accident s a petrecut pe ||strada|| ||alba|| ||iulia|| din sectorul bui||uca||ni al capitalei din imagine se vede cum un microbuz model mercedes este grav accidentat\n",
      "[32],[39],[44],[66]\n",
      "+ traseul dintre satele isnovat si stetcani criuleni\n",
      "- traseul dintre satele isnovat stetcani criuleni\n",
      "1 - accidentul s a produs aceasta dupa amiaza pe ||traseul|| ||dintre|| ||satele|| ||isnovat|| si ||stetcani|| raionul ||criuleni||\n",
      "[45],[53],[60],[67],[78],[95]\n",
      "+ bulevardul dimitrie cantemir apropiere piata\n",
      "- bulevardul dimitrie cantemir pita\n",
      "1 - o fata 18 ani a fost lovita o masina timp ce traversa strada regulamentar accidentul a avut loc aseara pe ||bulevardul|| ||dimitrie|| ||cantemir|| din ca||pita||la\n",
      "[106],[117],[126],[141]\n",
      "+ strada panin statia azs 51 tirol\n",
      "- strada panin statia azs\n",
      "1 - incidentul a avut loc pe ||strada|| ||panin|| din orasul bender langa ||statia|| ||azs|| 51 masina condusa un prieten familie era o tanara 24 ani si o fiica sa trei ani un moment dat soferul varsta 23 ani nu\n",
      "[25],[32],[62],[69]\n",
      "+ bulevardul dacia viaduct\n",
      "- dacia viaduct\n",
      "1 - o masina s a inversat pe bd ||dacia|| (||viaduct||) dupa ce s a lovit bordura volanul automobilului model bmw x6 se afla o tanara varsta 22 ani care se deplasa spre sectorul botanica al capit\n",
      "[28],[35]\n",
      "+ apropierea comunei tohatin\n",
      "- apropiere  tohatin\n",
      "1 - accidentul s a intamplat aceasta dimineata ||apropiere ||comuna ||tohatin||\n",
      "[43],[60]\n",
      "+ satul pererata briceni\n",
      "- satul pererita briceni\n",
      "1 - un barbat varsta 64 ani a decedat dupa ce a fost lovit mortal un automobil tragedia a avut loc ||satul|| ||pererita|| din raionul ||briceni||\n",
      "[95],[101],[122]\n",
      "+ satul pererata briceni\n",
      "- satul pererita briceni\n",
      "1 - un barbat varsta 64 ani a decedat dupa ce a fost lovit mortal un automobil tragedia a avut loc ||satul|| ||pererita|| din raionul ||briceni||\n",
      "[95],[101],[122]\n",
      "+ satul peresecina orhei intrare localitate\n",
      "- satul peresecina orei intrare\n",
      "1 - c pentru un barbat 45 ani din criuleni acesta a fost lovit mortal un automobil cand trecea strada neregulamentar impactul a avut loc aseara jurul ||orei|| 22:00 ||intrare||a ||satul|| ||peresecina||\n",
      "[179],[185],[159],[170]\n",
      "+ satul sirauti briceni\n",
      "- atul briceni\n",
      "1 - potrivit ofiterului presa al inspector||atul||ui politie ||briceni|| aliona bulgari un barbat varsta 30 ani deplasandu se cu automobil model bmv pierzand controlul volanului derapand pe partea carosabila a\n",
      "[38],[53]\n",
      "+ satul pelivan orhei intrare localitate\n",
      "- satul pelivan orhei intrare\n",
      "1 - un barbat varsta 52 ani a decedat urma unui accident care a avut loc aseara acesta a fost lovit timp ce traversa strada neregulamentar ||intrare||a ||satul|| ||pelivan|| raionul ||orhei||\n",
      "[144],[150],[166],[135]\n",
      "+ satul peresecina orhei\n",
      "- satul peresecina orhei\n",
      "1 - sfarsit tragic pentru un batran varsta 78 ani din ||satul|| ||peresecina|| raionul ||orhei|| acesta a fost lovit o masina timp ce traversa strada pe trecerea pietoni totul sa intamplat ieri seara satul peresecina\n",
      "[50],[56],[75]\n",
      "+ satul peresecina orhei\n",
      "- satul peresecina\n",
      "1 - tran varsta 78 ani din satul peresecina raionul orhei acesta a fost lovit o masina timp ce traversa strada pe trecerea pietoni totul sa intamplat ieri seara ||satul|| ||peresecina||\n",
      "[184],[190]\n",
      "+ strada podgorenilor strada vasile badiu\n",
      "- strada podgorenilor\n",
      "1 - accidentul s a produs pe ||strada|| ||podgorenilor|| din sectorul rascani al capitalei potrivit politiei conducatorul auto a pierdut controlul volanului dupa ce a adormit volan\n",
      "[25],[32]\n",
      "+ satul hlinaia edinet\n",
      "- satul hlinaia\n",
      "1 - accident mortal raionul edinet o femeie 68 ani a fost lovita un tractor timp ce mergea pe marginea drumului impactul a avut loc ieri ||satul|| ||hlinaia||\n",
      "[133],[139]\n",
      "+ strada feroviara gara auto ungheni\n",
      "- gari auto\n",
      "1 - un autobuz pe ruta soroca ungheni a lovit sase persoane chiar pe platoul asteptare a ||auto||||gari||i s a intamplat intre ora 1300 1330 ziua vineri 24 noiembrie\n",
      "[89],[85]\n",
      "+ sensul giratoriu strada petricani (supraten)\n",
      "- sensul giratoriu petricani (supraten)\n",
      "1 - ||sensul|| ||giratoriu|| str||petricani|| ||(supraten)|| este inregistrat accident rutier respectiv se circula cu dificultate intersectia data accident sunt implicate mai mul\n",
      "[0],[7],[20],[30]\n",
      "+ traseul r1 chisinau ungheni\n",
      "- traseul chisinau ungheni\n",
      "0 - un tir s a rasturnat pe ||traseul|| ||chisinau|| ||ungheni|| cel mai probabil camionul s a inversat din cauza vitezei excesive si a carosabilului umed\n",
      "[24],[32],[41]\n",
      "+ traseul r1 calarasi chisinau\n",
      "- traseul calarasi chisinau\n",
      "1 - potrivit martorilor totul s a intamplat ieri jurul orei 16:00 pe ||traseul|| ||calarasi|| ||chisinau|| vehiculul ar fi derapat pe sosea din cauza zapezii\n",
      "[65],[73],[82]\n",
      "+ strada kiev 3\n",
      "- strada kiev\n",
      "1 - pe ||strada|| ||kiev|| 3 s a inregistrat un accident rutier respectiv se circula cu dificultate pe strkiev directia sensului giratoriu alecu russo – moscovei traficul\n",
      "[3],[10]\n",
      "+ strada alexandr puskin\n",
      "- strada puskin\n",
      "1 - potrivit politiei impactul a avut loc jurul orei 8:00 pe ||strada|| ||puskin|| din capitala un volkswagen s a ciocnit cu un autocamion nimeni nu a avut suferit insa ambele masini au fost avariate\n",
      "[57],[64]\n",
      "+ strada doina\n",
      "- strada doina\n",
      "1 - un tanar 18 ani a scapat cu viata dupa ce s a izbit violent cu masina un pilon electricitate accidentul s a produs aceasta dimineata pe ||strada|| ||doina|| din sectorul rascani al capitalei\n",
      "[136],[143]\n",
      "+ traseul r7 orasul soroca satul rublenita\n",
      "- oratul soroca atul\n",
      "1 - comotie cerebrala si excoriatia fetei alte circumstante se stabilesc informeaza serghei lozan inspector principal al sectiei securitate publica al inspect||oratul||ui politie so||atul||ui politie ||soroca||\n",
      "[840],[857],[842]\n",
      "+ traseul r7 orasul soroca satul rublenita\n",
      "- traseul soroca rublenita\n",
      "1 - o masina a fost grav avariata intr un alt accident rutier produs cu o zi mai devreme pe ||traseul|| ||soroca|| ||rublenita|| care au fost implicate trei automobile politia a stabilit ca conducatorul automobilului wolksvagen pasat avand exces viteza a tamp\n",
      "[88],[96],[103]\n",
      "+ soseaua balcani\n",
      "- soseaua balcani\n",
      "1 - un renault a ajuns sant dupa ce s a tamponat cu o dacia impactul a avut loc aceasta dimineata pe ||soseaua|| ||balcani||\n",
      "[97],[105]\n",
      "+ strada mihai viteazul\n",
      "- mihai viteazu\n",
      "1 - ploua cu accidente in capitala decurs doar cateva ore s au produs doua accidente pe strazile calea basarabiei si ||mihai|| ||viteazu||\n",
      "[113],[119]\n",
      "+ bulevardul stefan cel mare si sfant strada serghei lazo\n",
      "- bulevardul stefan cel mare serghei lazo\n",
      "1 - accident capitala cu implicarea unui troleibuz impactul a avut loc pe ||bulevardul|| ||stefan|| ||cel|| ||mare|| intersectie cu ||serghei|| ||lazo||\n",
      "[70],[81],[88],[92],[112],[120]\n",
      "+ strada stefan cel mare strada testemiteanu\n",
      "- stefan cel mare testimitanu\n",
      "1 - un accident rutier s a produs ieri seara aproximativ ora 20:25 intersectia bd ||stefan|| ||cel|| ||mare|| 128 a cu str ||testimitanu|| mun balti\n",
      "[78],[85],[89],[107]\n",
      "+ traseul r1 satul parlita ungheni\n",
      "- satul pirlita ungheni\n",
      "0- - grav accident rutier ||satul|| ||pirlita|| raionul ||ungheni|| un barbat a murit dupa ar fi fost lovit un automobil volkswagen golf seara zilei marti\n",
      "potrivit ofiterului presa al inspectorat\n",
      "[21],[27],[43]\n",
      "+ strada calea iesilor\n",
      "- strada calea iesilor\n",
      "1 - sfarsit tragic pentru un barbat varsta 64 ani acesta a fost lovit un automobil trecerea pietoni accidentul s a intamplat seara zilei ieri pe ||strada|| ||calea|| ||iesilor|| ai capitalei\n",
      "[141],[148],[154]\n",
      "+ satul zagarancea ungheni centura ocolire\n",
      "- zagarancea ungheni centuri ocolire\n",
      "0- - un grav accident rutier a avut loc aceasta astazi regiunea noului pod parte a ||centuri||i ||ocolire|| a mun ||ungheni|| din localitatea ||zagarancea|| conform informatiilor transmise redactia blogului nostru (pagina facebook a blogului) catre ciobanu ana m\n",
      "[125],[101],[78],[87]\n",
      "+ satul zagarancea ungheni centura ocolire\n",
      "- satul zagarancea ungheni centuri\n",
      "1 - un autoturism model mercedes s a rasturnat regiunea podului parte a ||centuri||i mun ||ungheni|| din intravilanul ||satul||ui ||zagarancea|| conform sursei urma acidentului au fost ranite grav doua persoane referitor cauza accidentului urmeaza sa se ex\n",
      "[106],[114],[81],[68]\n",
      "+ satul zagarancea ungheni centura ocolire\n",
      "- situl zagarancea ungheni\n",
      "1 - […] accident tragic a luat viata unui barbat 31 ani din s ||zagarancea|| din raionul ||ungheni|| tanar si a gasit sfar||situl|| timp ce incerca sa ajunga […]\n",
      "[110],[58],[81]\n",
      "+ traseul r1 apropiere orasul straseni\n",
      "- apropiere orasul straseni\n",
      "1 - accident grav ||apropiere|| ||orasul|| ||straseni|| un sofer 66 ani a decedat dupa ce automobilul pe care il conducea a derapat pe traseu si s a rasturnat\n",
      "[14],[24],[31]\n",
      "+ traseul r30 marginea orasului stefan voda\n",
      "- marginea orasului stefan voda\n",
      "0- - „la 4 ianuarie 2018 aproximativ ora 5:30 pe traseul 30 kilometrul 65 apropierea statiei alimentare cu petrol peco amplasata ||marginea|| ||orasului|| ||stefan|| ||voda|| un barbat varsta 46 ani locuitor al orasului stefan voda conducand autovehiculul land rover nu s a ispravit cu ghidajul si a ta\n",
      "[124],[133],[142],[149]\n",
      "+ traseul r30 marginea orasului stefan voda\n",
      "- marginea orasului stefan voda\n",
      "0- - „la 4 ianuarie 2018 aproximativ ora 5:30 pe traseul 30 kilometrul 65 apropierea statiei alimentare cu petrol peco amplasata ||marginea|| ||orasului|| ||stefan|| ||voda|| un barbat varsta 46 ani locuitor al orasului stefan voda conducand autovehiculul land rover nu s a ispravit cu ghidajul si a ta\n",
      "[124],[133],[142],[149]\n",
      "+ strada ciocana strada maria dragan\n",
      "- ciocana maria dragan\n",
      "1 - potrivit inspectoratului national patrulare accidentul s a produs intersectia strazilor ||maria|| ||dragan|| si ||ciocana||\n",
      "[104],[88],[94]\n"
     ]
    },
    {
     "name": "stdout",
     "output_type": "stream",
     "text": [
      "+ satul baimaclia causeni\n",
      "- satul baimaclia causeni\n",
      "1 - accidentul s a intamplat aceasta noapte ||satul|| ||baimaclia|| raionul ||causeni|| potrivit oamenilor legii victima nu avea permis conducere\n",
      "[40],[46],[64]\n",
      "+ strada vadul lui voda strada mesterul manole\n",
      "- strada vadul lui voda\n",
      "1 - doua automobile s au ciocnit violent sectorul ciocana al capitalei accidentul s a produs pe ||strada|| ||vadul|| ||lui|| ||voda||\n",
      "[92],[99],[105],[109]\n",
      "+ strada banulescu bodoni strada 31 august 1989\n",
      "- banulescu bodoni august\n",
      "1 - doua masini model opel si toyota s au ciocnit frontal intersectia strazilor ||banulescu|| ||bodoni|| si 31 ||august|| 1989 din chisinau accidentul rutier a avut loc jurul orei 12:30 urma acestuia creandu se ambuteiaj zona\n",
      "[76],[86],[99]\n",
      "+ strada unirii strada 1 mai\n",
      "- strada unirii mai\n",
      "1 - accident grav straseni un copil care se afla sanius pe strada 1 ||mai|| spre ||strada|| ||unirii|| a intrat sub roata unei masini care se deplasa regulamentar pe strada unirii a orasului\n",
      "[73],[80],[64]\n",
      "+ strada unirii strada 1 mai\n",
      "- strada unirii\n",
      "1 - accident grav straseni un copil care se afla sanius pe strada 1 mai spre strada unirii a intrat sub roata unei masini care se deplasa regulamentar pe ||strada|| ||unirii|| a orasului\n",
      "[150],[157]\n",
      "+ strada independentei\n",
      "- strada independentei\n",
      "1 - bil s a rasturnat si a ciocnit un alt autobuz pe cursa sangerei copaceni dupa ce soferul masinii a pierdut controlul volanului accidentul a avut loc ieri pe ||strada|| ||independentei|| din orasul sangerei potrivit politiei soferul automobilului intentiona sa depaseasca o alta masina\n",
      "[166],[173]\n",
      "+ satul zagarancea ungheni centura ocolire\n",
      "- satul zagarancea ungheni centuri\n",
      "1 - un autoturism model volkswagen polo a iesit pe traseu regiunea podului parte a ||centuri||i mun ||ungheni|| din intravilanul ||satul||ui ||zagarancea|| si s a ciocnit intr un pilon pentru electricitate referitor cauza accidentului urmeaza sa se expuna inspectorat\n",
      "[117],[125],[92],[79]\n",
      "+ strada vadul lui voda strada tudor vladimirescu\n",
      "- vadul lui voda tudor vladimirescu\n",
      "1 - accident grav intersectia strazilor ||vadul|| ||lui|| ||voda|| si ||tudor|| ||vladimirescu|| doua automobile s au izbit frontal potrivit martorilor unul din soferi se afla sub influenta alcoolului nu au fost\n",
      "[36],[42],[46],[54],[60]\n",
      "+ s balauresti nisporeni\n",
      "- balauresti nisporeni\n",
      "1 - ieri seara jurul orei 18:00 satul ||balauresti|| raionul ||nisporeni|| soferul unui autoturism model „vaz” a tamponat o femeie varsta 62 ani care s a ales cu o factura brat\n",
      "[34],[53]\n",
      "+ tantareni telenesti\n",
      "- tintareni telenesti\n",
      "1 - un barbat varsta 50 ani a decedat dupa ce a fost lovit un automobil timp se deplasa cu bicicleta tragedia s a intamplat astazi jurul orei 18:00 satul ||tintareni|| raionul ||telenesti||\n",
      "[150],[168]\n",
      "+ r20 intre localitatile step soci si chiperceni raionul orhei\n",
      "- intre localitatile step soci chiperceni raionul orhei\n",
      "1 - accident groaznic pe soseua 20 ||intre|| ||localitatile|| ||step|| ||soci|| ||chiperceni|| din ||raionul|| ||orhei||\n",
      "[31],[37],[50],[55],[60],[75],[83]\n",
      "+ or durlesti strada dimo\n",
      "- durlesti strada dimo\n",
      "1 - un sofer a ajuns cu bmw ul int o statie statie transport public incidentul a avut loc aceasta dimineata pe ||strada|| ||dimo|| din oraselul ||durlesti||\n",
      "[132],[107],[114]\n",
      "+ strada alecu russo strada mihail sadoveanu\n",
      "- alecu russo mihai  sadoveanu\n",
      "1 - accident grav sectorul ciocana doua autoturisme model opel si wolkswagen s au tamponat rondul intersectia strazilor ||alecu|| ||russo|| cu ||mihai ||||sadoveanu|| potrivit martorilor oculari doua persoane au suferit leziuni usoare fata locului au venit si doua masini ambulanta care au \n",
      "[116],[122],[131],[137]\n",
      "+ traseul chisinau leuseni\n",
      "- chisinau leuseni\n",
      "1 - potrivit politiei totul s a intamplat pe soseaua ||chisinau|| ||leuseni|| aceasta dimineata un sofer 21 ani din iasi care conducea un land rover ar fi pierdut controlul asupra volanului si a intrat cu masina intr \n",
      "[49],[58]\n",
      "+ soseaua balcani strada liviu deleanu\n",
      "- soseau  balcani strada deleanu\n",
      "1 - patru persoane au fost transportate spitalul urgenta urma unui accident pe ||soseau ||||balcani|| intersectie cu ||strada|| ||deleanu||\n",
      "[75],[82],[105],[112]\n",
      "+ localitatea balabanu taraclia\n",
      "- balabanu taraclia\n",
      "1 - accidentul a avut loc satul ||balabanu||l raionul ||taraclia|| si nimeni nu a avut suferit fata locului au intervenit autospecialele descarcerare iar operatiunea a durat trei ore\n",
      "[28],[46]\n",
      "+ traseul r16 intre localitatile frumusica si calugar\n",
      "- traseul r16 intre frumusica calugar\n",
      "1 - p volkswagen t4 a derapat dimineata acestei zile 9 februarie pe traseu si a fost proiectat intr un arbore accidentul a avut loc pe ||traseul|| ||r16|| \"balti falesti sculeni\" ||intre|| s ||frumusica|| si s||calugar|| raionul falesti\n",
      "[147],[155],[183],[191],[205]\n",
      "+ localitatea cornesti ungheni\n",
      "- localitatea cornesti ungheni\n",
      "1 - un pas tragedie un autocisterna cu gaz lichefiat s a rasturnat apropiere ||localitatea|| ||cornesti|| din raionul ||ungheni||\n",
      "[73],[85],[106]\n",
      "+ strada alecu russo\n",
      "- strada alecu russo\n",
      "1 - un troleibuz plin cu pasageri pe ruta numarul 24 a fost lovit un autoturism aseara sectorul rascani al capitalei totul s a intamplat pe ||strada|| ||alecu|| ||russo|| timp ce soferul unui automobil marca toyota a incercat sa depaseasca o alta masina iar consecinta a intrat violent troleibuz\n",
      "[136],[143],[149]\n",
      "+ s verejeni telenesti\n",
      "- verejeni telenesti\n",
      "1 - un barbat si o femeie au murit iar o alta persoana a fost ranita urma unui accident rutier produs apropiere satul ||verejeni|| raionul ||telenesti||\n",
      "[114],[131]\n",
      "+ strada mircea cel batran strada profesor ion dumeniuc\n",
      "- mircea cel batran ion dumeniuc\n",
      "1 - seara zilei miercuri 6 septembrie intersectia strazilor ||ion|| ||dumeniuc|| si bd ||mircea|| ||cel|| ||batran|| a avut loc un accident urma caruia o masina s a inversat\n",
      "[75],[82],[86],[56],[60]\n",
      "+ periferiea or orhei\n",
      "- periferia orhei\n",
      "1 - un automobil marca volvo a ajuns intr un copac accidentul s a produs ieri seara ||periferia|| orasului ||orhei||\n",
      "[80],[99]\n",
      "+ s corjeuti briceni\n",
      "- corjeuti briceni\n",
      "1 - (update 14:59) suspectul care lovit mortal un copil 7 ani din satul ||corjeuti|| raionul ||briceni|| este consilier local\n",
      "[68],[85]\n",
      "+ s braviceni orhei\n",
      "- braviceni orhei\n",
      "1 - chisinau 28 feb — sputnik un accident cu consecinte extrem grave s a produs seara zilei ieri ora 1831 pe soseaua r6 apropierea localitatii ||braviceni|| raionul ||orhei||\n",
      "[139],[157]\n",
      "+ s volovita soroca\n",
      "- volovita soroca\n",
      "1 - accidentul a avut loc duminica 4 martie jurul orei 12:40 localitatea ||volovita|| din raionul ||soroca||\n",
      "[69],[90]\n",
      "+ strada gheorghe asachi\n",
      "- strada gheorghe asachi\n",
      "1 - un barbat aproximativ 55 ani a fost spitalizat dupa ce a fost spulberat o masina langa o trecere pietoni pe ||strada|| ||gheorghe|| ||asachi|| din capitala\n",
      "[108],[115],[124]\n",
      "+ bucuresti x vasile alecsandri\n",
      "- bucuresti alecsandri\n",
      "1 - accidentul s a produs jurul orei 1600 intersecdtia strazilor ||bucuresti|| v||alecsandri||\n",
      "[61],[72]\n",
      "+ besalma uta gagauzia\n",
      "- besalma uta gagauzia\n",
      "1 - intrarea localitatea ||besalma|| ||uta|| ||gagauzia|| un motociclist s a lovit intr un copac nu departe un cimitir\n",
      "[21],[29],[33]\n",
      "+ strada ciuflea\n",
      "- strada ciuflea\n",
      "1 - etichete: accident chisinaudepasire pe contrasensmercedes prin intre masini||strada|| ||ciuflea||triplu ghinion\n",
      "[75],[82]\n",
      "+ apropiere or hancesti\n",
      "- apropiere hancesti\n",
      "1 - un camion a derapat si a intrat intr un parapet ||apropiere||a orasului ||hancesti|| motivul accidentului este din cauza ca camionul a alunecat momentul cand a vrut sa coteasca si a ramas blocat mijlocul drumului scrie\n",
      "[48],[68]\n",
      "+ strada vasile alecsandri strada mihail kogalniceanu\n",
      "- vasile alecsandri mihail kogilniceanu\n",
      "1 - accident violent cu implicarea a trei automobile intersectia strazilor ||vasile|| ||alecsandri|| si ||mihail|| ||kogilniceanu|| din capitala\n",
      "[71],[78],[92],[99]\n",
      "+ intre baccealia si grigorievca causeni\n",
      "- intre baccealia grigorievca\n",
      "1 - accidentul rutier a avut loc seara zilei marti 27 martie ||intre|| localitatile ||grigorievca|| si ||baccealia||\n",
      "[57],[91],[76]\n",
      "+ strada drumul viilor strada george meniuc\n",
      "- drumul viilor george meniuc\n",
      "1 - o femeie si un copil au avut suferit urma unui accident produs acum o ora capitala incidentul a avut loc intersectia strazilor ||drumul|| ||viilor|| si ||george|| ||meniuc||\n",
      "[127],[134],[144],[151]\n",
      "+ strada stefan cel mare si sfant balti\n",
      "- strada stefan cel mare balti\n",
      "1 - potrivit martorilor care au expediat poze pe adresa email a redactiei ziarul national accidentul a avut loc jurul orei 1230 pe ||strada|| ||stefan|| ||cel|| ||mare|| din ||balti||\n",
      "[127],[134],[141],[145],[154]\n",
      "+ restaurantul doi haiduci\n",
      "- doi haiduci\n",
      "1 - un accident tragic s a produs dupa amiaza zilei joi 12 aprilie pe traseul chisinau orhei preajma localului „||doi|| ||haiduci||” impactul violent intre doua automobile a curmat viata unei persoane victima este fostul vicepresedinte al raionului orhei si fostul sef al in\n",
      "[108],[112]\n",
      "+ intre s iurceni si cristesti nisporeni\n",
      "- intre iurceni cristesti nisporeni\n",
      "1 - un accident rutier a avut loc dupa amiaza zilei 18 aprilie jurul orei 16:30 ||intre|| satul ||iurceni|| si ||cristesti|| din raionul ||nisporeni|| cel putin doua masini au fost surprinse fata locului stare grav avariata\n",
      "[76],[88],[99],[121]\n",
      "+ razeni ialoveni\n",
      "- razeni ialoveni\n",
      "1 - un accident grav s a produs acum cateva minute pe soseaua chisinau – ||ialoveni|| apropiere ||razeni|| cel putin doua persoane au fost ranite\n",
      "[88],[69]\n",
      "+ strada mihai eminescu strada alexandru cel bun\n",
      "- mihai eminescu alexandru cel bun\n",
      "1 - un accident rutier a avut loc aceasta dimineata intersectia strazilor ||mihai|| ||eminescu|| cu ||alexandru|| ||cel|| ||bun|| din municipiului ungheni imediata vecinatate a consulatului romaniei\n",
      "[70],[76],[88],[98],[102]\n"
     ]
    },
    {
     "name": "stdout",
     "output_type": "stream",
     "text": [
      "+ strada calea basarabiei apropiere strada ismail\n",
      "- strada calea basarabiei ismail\n",
      "1 - un accident grav s a produs pe ||strada|| ||ismail|| intersectie cu ||calea|| ||basarabiei|| soferul unui camion a strivit un tanar care se deplasa pe o motoreta tanarul avea 22 ani si a murit pe loc din c\n",
      "[31],[60],[66],[38]\n",
      "+ strada ismail apropiere cu calea basarabiei\n",
      "- ismail apropiere calea basarabiei\n",
      "1 - pe str||ismail|| ||apropiere|| intersectie cu str||calea|| ||basarabiei|| este inregistrat accident rutier un motociclist s a tamponat intr o masina toyota fata locului a intervenit un e\n",
      "[6],[13],[41],[47]\n",
      "+ strada ismail apropiere cu calea basarabiei\n",
      "- ismail calea basarabiei\n",
      "0 - zona se circula cu dificultate pe str||ismail|| directia spre str||calea|| ||basarabiei|| astfel serviciul ”infotrafic” recomanda conducatorilor auto:\n",
      "[37],[61],[67]\n",
      "+ strada ismail pod\n",
      "- strada ismail pod\n",
      "1 - zapada si neatentia volan il va costa scump pe un sofer din capitala cu putin timp urma acesta a deraiat si s a izbit cu masina gardul protectie al ||pod||ului pe ||strada|| ||ismail||\n",
      "[159],[166],[148]\n",
      "+ strada costiujeni\n",
      "- strada costiujeni\n",
      "1 - accident rutier pe ||strada|| ||costiujeni|| codru cu implicarea a doua autoturisme nimeni nu a avut suferit\n",
      "[19],[26]\n",
      "+ intersectia str o ghibu alba iulia\n",
      "- intersectia str ghibu alba iulia\n",
      "1 - potrivit politiei totul s a intamplat jurul orei 23:00 ||intersectia|| ||str||azilor onisifor ||ghibu|| cu ||alba|| ||iulia|| un volkswagen condus un tanar 27 ani s a ciocnit violent cu o skoda care se afla soferul 25 ani si doi pasageri 34\n",
      "[55],[67],[86],[95],[100]\n",
      "+ romanovca singerei\n",
      "- romanvca sangerei\n",
      "1 - grav accident rutier produs apropierea localitatii ||romanvca|| din raionul ||sangerei|| urma caruia au decedat persoane\n",
      "[51],[72]\n",
      "+ strada ismail strada mitropolit varlaam\n",
      "- strada ismail\n",
      "1 - ziua 27 octombrie curent ora 1220 politia capitalei a fost alertata despre faptul comiterii unei tamponari pieton pe ||strada|| ||ismail|| urma caruia a avut patimit un tanar timp ce traversa strada trecerea pietonala nedirijata fata locului s au deplasat angajatii serviciului u\n",
      "[117],[124]\n",
      "+ bulevardul stefan cel mare si sfant strada ion creanga\n",
      "- bulevardul stefan cel mare sfant ion creanga\n",
      "1 - tinutii a fost implicat intr un accident pe drumul cu sens giratoriu intersectia strazilor henri coanda calea iesilor mitropolit dosoftei ||ion|| ||creanga|| si ||bulevardul|| ||stefan|| ||cel|| ||mare|| si ||sfant|| acesta s a ciocnit cu un automobil marca ”dacia”\n",
      "[251],[262],[269],[273],[281],[236],[240]\n",
      "+ strada miorita\n",
      "- strada miorita\n",
      "1 - saptamana a inceput cu ghinion pentru trei soferi masinile acestora s au tompanat timp ce se deplasau pe ||strada|| ||miorita|| sin chisinau\n",
      "[105],[112]\n",
      "+ strada mihail lomonosov strada ion ganea\n",
      "- mihail lomonosov ion ganea\n",
      "1 - un accident grav a avut loc dupa amiaza acestei zile 6 septembrie jurul orei 14:35 intersectia strazilor ||ion|| ||ganea|| si ||mihail|| ||lomonosov|| din cartierul malina mica mun chisinau\n",
      "[118],[125],[105],[109]\n",
      "+ intersectia str decebal trandafirilor (chisinau)\n",
      "- intersectia str decebal trandafirilor\n",
      "1 - accident nocturn sectorul botanica al capitalei un taximetrist a ajuns spital dupa ce a provocat un accident lant ||intersectia|| ||str||azilor ||decebal|| si ||trandafirilor||\n",
      "[114],[126],[136],[147]\n",
      "+ strada vlaicu parcalab strada mihail kogalniceanu\n",
      "- strada vlaicu parcalab mihail kogalniceanu\n",
      "1 - potrivit martorilor soferita 25 ani circula pe ||strada|| ||vlaicu|| ||parcalab|| iar bmw ul pe ||mihail|| ||kogalniceanu|| dupa producerea accidentului soferul bmw ul a scos numerele inmatriculare ale masinii si a refuzat s\n",
      "[47],[54],[61],[84],[91]\n",
      "+ strada alexei mateevici strada mihai eminescu\n",
      "- strada alexei mateevici\n",
      "1 - accident lant pe ||strada|| ||alexei|| ||mateevici|| din capitala patru masini s au ciocnit dupa ce conducatorul primului automobil se pare ca a franat brusc iar ceilalti nu au respe\n",
      "[17],[24],[31]\n",
      "+ strada 31 august 1989 strada ismail\n",
      "- strada august ismail\n",
      "1 - impactul a avut loc intersectia strazii 31 ||august|| cu ||strada|| ||ismail||\n",
      "[53],[43],[60]\n",
      "+ bulevardul stefan cel mare si sfant strada alexander puskin\n",
      "- bulevardul stefan cel mare puskin\n",
      "1 - pe strada a ||puskin|| intersectie cu ||bulevardul|| ||stefan|| ||cel|| ||mare|| este inregistrat accident rutier respectiv se circula cu dificultate perimetrul intersectiei cauza\n",
      "[34],[45],[52],[56],[12]\n",
      "+ bulevardul stefan cel mare si sfant strada vlaicu parcalab\n",
      "- bulevardul stefan cel mare strada vlaicu parcalab\n",
      "1 - accidentul s a intamplat aceasta dupa amiaza pe ||bulevardul|| ||stefan|| ||cel|| ||mare|| intersectie cu ||strada|| ||vlaicu|| ||parcalab||potrivit politiei adolescentul traversa regulamentar strada cand a fost lovit puiternic o masina\n",
      "[48],[59],[66],[70],[90],[97],[104]\n",
      "+ bulevardul stefan cel mare si sfant strada vlaicu parcalab\n",
      "- bulevardul stefan cel mare strada vlaicu parcalab\n",
      "1 - accidentul s a intamplat aceasta dupa amiaza pe ||bulevardul|| ||stefan|| ||cel|| ||mare|| intersectie cu ||strada|| ||vlaicu|| ||parcalab||potrivit politiei adolescentul traversa regulamentar strada cand a fost lovit puiternic o masina\n",
      "[48],[59],[66],[70],[90],[97],[104]\n",
      "+ bulevardul stefan cel mare si sfant strada vlaicu parcalab\n",
      "- stefan cel mare strada vlaicu pircalab\n",
      "1 - accident grav capitala patru masini s au tamponat pe ||strada|| ||stefan|| ||cel|| ||mare|| intersectie cu ||vlaicu|| ||pircalab||\n",
      "[60],[67],[71],[53],[91],[98]\n",
      "+ bulevardul dacia\n",
      "- bulervadul dacia\n",
      "1 - dimineta zilei noiembrie curent politia capitalei a fost solicitata sa intervina intr un caz tamponare e unei femei produs pe ||bulervadul|| ||dacia|| tecerea pentru pietoni fata locului a s a deplasat grupa operativa care a constatat ca un barbat 73 ani conducand automobilul model volkswag\n",
      "[126],[137]\n",
      "+ strada miorita strada gheorghe asachi\n",
      "- strada miorita\n",
      "1 - rul telecentru special directia spre sectorul botanica dupa ce cinci vehicule s au ciocnit lant accidentul a avut loc dupa amiaza acestei zile 7 noiembrie pe ||strada|| ||miorita|| din capitala\n",
      "[201],[208]\n",
      "+ soseaua hancesti\n",
      "- soseaua hancesti\n",
      "1 - accident mortal capitala un barbat varsta 47 ani a decedat dupa ce a fost lovit un taxi pe ||soseaua|| ||hancesti|| din capitala tragedia a avut loc azi seara jurul orei 21:30\n",
      "[91],[99]\n",
      "+ soseaua hancesti\n",
      "- soseaua hancesti\n",
      "1 - o soferita varsta 33 ani din chisinau a ajuns cu masina intr un panou publicitar dupa ce a derapat pe traseu accidentul s a produs aceasta dimineata pe ||soseaua|| ||hancesti|| telecentru\n",
      "[152],[160]\n",
      "+ bulevardul stefan cel mare si sfant strada vasile alecsandri\n",
      "- bulevardul stefan cel mare vasile alecsandri\n",
      "1 - accidentul s a produs intersectia strazii ||vasile|| ||alecsandri|| cu ||bulevardul|| ||stefan|| ||cel|| ||mare||\n",
      "[63],[74],[81],[85],[42],[49]\n",
      "+ bulevardul stefan cel mare si sfant strada armeneasca\n",
      "- bulevardul stefan cel mare sfant strada armeneasca\n",
      "1 -  a avut loc prima jumatate a acestei zile jurul orei 12:00 cu implicarea unei masini serviciu a politiei acesta a avut loc intersectia ||bulevardul||ui ||stefan|| ||cel|| ||mare|| si ||sfant|| cu ||strada|| ||armeneasca|| din chisinau\n",
      "[153],[166],[173],[177],[185],[194],[201]\n",
      "+ strada hristo botev bulevardul dacia\n",
      "- strada bulevardul dacia\n",
      "1 - trei femei au ajuns spital aceasta dimineata dupa ce microbuzul care se aflau s a ciocnit cu un automobil impactul a avut loc intersectia ||bulevardul||ui ||dacia|| cu ||strada|| trandafirilor din chisinau\n",
      "[160],[138],[151]\n",
      "+ s lupa recea straseni\n",
      "- lupa recea\n",
      "1 - accident violent pe traseul chisinau balti apropiere satul ||lupa|| ||recea|| doua persoane tata si fiica au fost un pas moarte dupa ce masina cu care se deplasau a derapat pe traseu si s a rostogolit cateva ori\n",
      "[59],[64]\n",
      "+ strada ion creanga strada eugen coca\n",
      "- ion creanga eugen coca\n",
      "1 - au scapat nevatamati urma unui accident rutier incidentul a avut loc din cauza neatentiei unuia dintre conducatorii auto intersectia strazilor ||ion|| ||creanga|| si ||eugen|| ||coca|| din sectorul buiucani al capitalei\n",
      "[143],[147],[158],[164]\n",
      "+ strada ion creanga strada eugen coca\n",
      "- strada ion creanga\n",
      "1 - mai exact un sofer varsta 25 ani aflat volanul unui autoturism marca rover se deplasa pe ||strada|| ||ion|| ||creanga|| s a angajat intr o virare stanga dar nu s a asigurat sa semnalizeze manevra cand fapt trebuia sa cedeze trecerea celuilalt automobil \n",
      "[89],[96],[100]\n",
      "+ strada vissarion belinski strada ioana radu\n",
      "- strada visarion belinschi rada\n",
      "1 - potrivit autorului fotografiilor accidentul s a produs dimineata zilei luni pe ||strada|| visarion belinschi din sectorul buiucani al capitalei un automobil marca toyota s a ciocnit cu un chry||rada|| ||visarion|| ||belinschi|| din sector\n",
      "[79],[86],[95],[81]\n",
      "+ bulevardul stefan cel mare si sfant apropiere strada mitropolit petru movila\n",
      "- stefan cel mare sfant apropiere strada petru movila\n",
      "1 - doua masini s au ciocnit dupa ce soferii se pare ca nu au putut imparti drumul pe bd ||stefan|| ||cel|| ||mare|| si ||sfant|| ||apropiere|| intersectia cu ||strada|| ||petru|| ||movila|| cel mai probabil victime nu sunt insa unul dintre soferi va trebui sa achite despagubiri\n",
      "[85],[92],[96],[104],[110],[135],[142],[148]\n",
      "+ strada alba iulia strada ion pelivan\n",
      "- strada alba iulia\n",
      "1 - (update 21:26) o masina politie care transporta un infractor a fost lovita plin cu putin timp urma pe ||strada|| ||alba|| ||iulia|| din sectorul buiucani al capitalei potrivit politiei echipa mobila a brigadei reactie operativa (bro) se intorcea o chemare din durles\n",
      "[102],[109],[114]\n",
      "+ strada bucuresti strada vasile alecsandri\n",
      "- bucuresti vasile alecsandri\n",
      "1 - potrivit martorului ocular accidentul s a produs intersectia strazilor ||vasile|| ||alecsandri|| si ||bucuresti|| din centru capitalei\n",
      "[92],[71],[78]\n",
      "+ strada calea orheiului strada studentilor\n",
      "- calea orheiului studentilor\n",
      "1 - o masina a politiei din chisinau s a ciocnit lateral cu un automobil aceasta dimineata intersectia strazilor ||studentilor|| si ||calea|| ||orheiului||\n",
      "[124],[130],[109]\n",
      "+ strada calea orheiului strada studentilor\n",
      "- strada studentilor\n",
      "0 - echipajul 902 se deplasa o interventie pe ||strada|| ||studentilor|| iar celalalt vehicul venea din directia opusa\n",
      "[42],[49]\n",
      "+ strada calea orheiului strada ceucari\n",
      "- strada calea orheiului ceucari\n",
      "1 - aceasta dimineata un automobil model nissan a derapat pe ||strada|| ||calea|| ||orheiului|| ||ceucari|| si a lovit un gard pe marginea drumului\n",
      "[57],[64],[70],[80]\n",
      "+ strada calea orheiului strada studentilor\n",
      "- strada calea orheiului\n",
      "1 - a nins cu inca un accident capitala aceasta data pe ||strada|| ||calea|| ||orheiului|| din cartierul posta veche\n",
      "[52],[59],[65]\n",
      "+ strada ismail pod\n",
      "- strada ismail pod\n",
      "1 - accident pe ||pod||ul pe ||strada|| ||ismail|| intersectie cu strada albisoara din chisinau un motociclist s a lovit intr un automobil model bmw iar apoi intr un mercedes\n",
      "[21],[28],[12]\n",
      "+ strada vadul lui voda strada mesterul manole\n",
      "- vadul lui voda mesterul manole\n",
      "1 - intersectia strazilor ||vadul|| ||lui|| ||voda|| cu ||mesterul|| ||manole|| din capitala a fost inregistrat un accident rutier cu implicarea a trei autovehicule inspectorii patrulare au interven\n",
      "[22],[28],[32],[40],[49]\n",
      "+ strada vadul lui voda\n",
      "- strada vadul lui voda\n",
      "1 - un accident lant a avut loc aceasta dimineata pe ||strada|| ||vadul|| ||lui|| ||voda|| din capitala urma impactului o persoana a murit\n",
      "[49],[56],[62],[66]\n",
      "+ strada gradina botanica soseaua muncesti pe pod\n",
      "- gradina botanica muncesti pod\n",
      "1 - potrivt politei accidentul a avut loc acum o ora pe ||pod||ul intersectia strazilor ||muncesti|| cu ||gradina|| ||botanica|| soferul mercedes ului ar fi pierdut controlul volanului a derapat si s a rasturnat\n",
      "[92],[100],[80],[52]\n",
      "+ bulevardul stefan cel mare si sfant strada mihai eminescu\n",
      "- bulevardul stefan cel mare strada mihai eminescu\n",
      "1 - accidentul s a produs astazi intersectia ||bulevardul||ui ||stefan|| ||cel|| ||mare|| cu ||strada|| ||mihai|| ||eminescu|| un automobil s a ciocnit cu un troleibuzin urma impactului automobilul a fost grav avariat iar o banda\n",
      "[41],[54],[61],[65],[73],[80],[86]\n",
      "+ strada vasile alecsandri strada mitropolit varlaam\n",
      "- vasile alecsandri mitropolit varlaam\n",
      "1 - un barbat moarte dupa ce inima acestuia s a oprit fiind lovit o masina timp ce travesa strada incidentul a avut loc aseara intersectia strazilor ||vasile|| ||alecsandri|| si ||mitropolit|| ||varlaam|| din centrul capitalei\n",
      "[176],[183],[197],[208]\n"
     ]
    },
    {
     "data": {
      "text/plain": [
       "(155, 379)"
      ]
     },
     "execution_count": 8,
     "metadata": {},
     "output_type": "execute_result"
    }
   ],
   "source": [
    "from fuzzywuzzy import fuzz\n",
    "from sklearn.cluster import DBSCAN\n",
    "dd = []\n",
    "sv = []\n",
    "nr=0\n",
    "for id,d in enumerate(db[:900]):\n",
    "  #text = ' '.join(d['text']).lower()\n",
    "  #text.replace('str.','strada')\n",
    "  #if intext(d['street'], text):\n",
    "  needle = d['location'].lower().split(' ')\n",
    "  pd = 160\n",
    "  for text in d['text']:      \n",
    "    if len(text)==0 or len(needle)==0 or needle is None:\n",
    "      continue\n",
    "    n1 = 0\n",
    "    y = []\n",
    "    fo = []\n",
    "    ff = []\n",
    "    ww = {}\n",
    "    ln = len(needle)\n",
    "    clustering = DBSCAN(eps=30, min_samples=max(2,len(needle)//2))\n",
    "    for w in needle:\n",
    "      if len(w)<=2 or w.isdigit():\n",
    "        ln-=1\n",
    "        continue\n",
    "      m = find_near_matches(w, text, max_l_dist=len(w)//4)\n",
    "      for n in m:\n",
    "        dist = n.dist/len(w)\n",
    "        if dist<0.4:\n",
    "          n1+=1\n",
    "          y.append([n.start])# and k<=n.end)\n",
    "          fo.append(n.matched)\n",
    "          ff.append(w)\n",
    "          #break\n",
    "    if len(y)==0:\n",
    "        continue\n",
    "    lb = clustering.fit(y).labels_\n",
    "    ct = {}\n",
    "    for l in lb:\n",
    "        if l not in ct:\n",
    "          ct[l]=0\n",
    "        ct[l]+=1\n",
    "    ct = sorted([m for m in ct.items()],key=lambda x:x[1],reverse=True)\n",
    "    for c in ct:\n",
    "        if c[0]!=-1 and c[1]>ln/2:\n",
    "          #if n1>len(needle)/2:\n",
    "          dd.append([i,y])\n",
    "          nr+=1\n",
    "          bw = [i[0] for j,i in enumerate(y) if lb[j]==c[0]]\n",
    "          md = int(np.mean(bw))\n",
    "          ty = ''\n",
    "          tl = text\n",
    "          ls = 0\n",
    "          sl = []\n",
    "          cc = {i:[] for i in needle}\n",
    "          for j,i in enumerate(y):\n",
    "             if lb[j]==c[0]:\n",
    "               cc[ff[j]].append([j,i[0]])\n",
    "          for i in cc.values():\n",
    "            if len(i)>1:\n",
    "              #print(i)\n",
    "              mm = np.argmin([abs(j[1]-md) for j in i])\n",
    "              for j,k in enumerate(i):\n",
    "                if j!=mm:\n",
    "                  #print(k[0])\n",
    "                  lb[k[0]]=-1\n",
    "          #mn = [i[0][1] for j,i in cc.items() if len(i)==1]\n",
    "          #mn = \n",
    "\n",
    "\n",
    "          for j,i in enumerate(y):\n",
    "             if lb[j]==c[0]:\n",
    "               sl.append([i[0],fo[j]])\n",
    "          sl = sorted(sl, key=lambda x:x[0])\n",
    "          for i,f in sl:\n",
    "            #print(f,ls, i)\n",
    "            ty += tl[:i-ls]+'||'+f+\"||\"\n",
    "            tl = tl[i-ls+len(f):]\n",
    "            ls = i+len(f)\n",
    "          ty+=tl\n",
    "          \n",
    "          #print(md, bw)\n",
    "          sv.append([id, checkprop(text),  ty[max(0,md-pd):md+pd], ''])\n",
    "          print('+',d['location'])\n",
    "          print('-',' '.join([fo[j] for j in range(len(y)) if lb[j]==c[0]]))\n",
    "          print(checkprop(text),'-',ty[max(0,md-pd):md+pd])\n",
    "          print(','.join([str(i) for j,i in enumerate(y) if lb[j]==c[0]]))\n",
    "          #break\n",
    "      #break\n",
    "    \n",
    "nr, len(db)#, dd"
   ]
  },
  {
   "cell_type": "code",
   "execution_count": 9,
   "metadata": {
    "colab": {
     "base_uri": "https://localhost:8080/",
     "height": 162
    },
    "id": "XXUnyq02srrR",
    "outputId": "9682cedd-aa2d-497a-97f8-2cff455abb5a"
   },
   "outputs": [],
   "source": [
    "savepack('../data/raw/generate_data/v.csv',sv,['id','y','text','com'])"
   ]
  },
  {
   "cell_type": "code",
   "execution_count": null,
   "metadata": {
    "id": "b3Lb3J4-7246"
   },
   "outputs": [],
   "source": []
  },
  {
   "cell_type": "code",
   "execution_count": 10,
   "metadata": {
    "colab": {
     "base_uri": "https://localhost:8080/"
    },
    "id": "9XwlaNrDnO0m",
    "outputId": "480312bd-905a-4910-8690-2a8cf0333378"
   },
   "outputs": [
    {
     "data": {
      "text/plain": [
       "(91, 379)"
      ]
     },
     "execution_count": 10,
     "metadata": {},
     "output_type": "execute_result"
    }
   ],
   "source": [
    "from fuzzywuzzy import fuzz\n",
    "dd = []\n",
    "nr=0\n",
    "for i,d in enumerate(db[:10000]):\n",
    "  #text = ' '.join(d['text']).lower()\n",
    "  #text.replace('str.','strada')\n",
    "  #if intext(d['street'], text):\n",
    "  needle = d['street'].lower()  \n",
    "  pd = 16\n",
    "  for text in d['text']:      \n",
    "    if len(text)==0 or len(needle)==0 or needle is None:\n",
    "      continue  \n",
    "    m = find_near_matches(needle, text.lower(), max_l_dist=6)\n",
    "    ok=False\n",
    "    nd = len(needle.split(' '))\n",
    "    for n in m:\n",
    "      dist = n.dist/len(needle)\n",
    "      if dist<0.4:\n",
    "        #print(m)\n",
    "        k=0\n",
    "        y = []\n",
    "        sp = text.split(' ')\n",
    "        for j,w in enumerate(sp):\n",
    "          if k>=n.start and k<=n.end:\n",
    "            y.append(j)\n",
    "            if len(y)==nd:\n",
    "              break\n",
    "          k+=len(w)+1\n",
    "        #print([sp[j] for j in y])\n",
    "        dd.append([i,sp[max(y[0]-pd,0):y[0]+pd],y])\n",
    "        nr+=1\n",
    "        ok=True\n",
    "        #mark matched substring as label - done\n",
    "        #check keywords 0/1 accident location - done\n",
    "        #check intersectie -> one more street then mark\n",
    "        #sort by keywords\n",
    "        #verify by hand\n",
    "        #add negative example, outliers\n",
    "        #make db with random changes\n",
    "        #model basic to identify based on keywords and db of streeds/cities\n",
    "        #rnn words/character train\n",
    "        break\n",
    "    if False and ok:\n",
    "        break\n",
    "nr, len(db)#, dd"
   ]
  },
  {
   "cell_type": "code",
   "execution_count": 11,
   "metadata": {
    "id": "eo4JpmxKYwaq"
   },
   "outputs": [
    {
     "name": "stdout",
     "output_type": "stream",
     "text": [
      "1 1 un sofer a tamponat o femeie pe trecerea pietoni intersectia bd decebal cu strada trandafirilor potrivit politiei persoana traumata a fost luata o ambulanta si transportata urgenta spital\n",
      "2 0 accidentul s a intamplat aceasta dimineata pe soseaua muncesti din capitala\n",
      "3 1 un pieton a fost spulberat mortal aseara un taxi accidentul s a produs pe soseaua muncesti din capitala jurul orei 21:00\n",
      "4 0 accidentul a avut loc sectorul botanica pe strada trandafirilor jurul orei 20:00\n",
      "5 1 potrivit ofiterului presa al politiei capitalei natalia stati accidentul a avut loc jurul orei 11 pe strada valea crucii doua automobile unul mazda s a tamponat frontal cu un automobil model toyota\n",
      "6 1 doua masini s au ciocnit aseara intersectia bulevardelor dacia si traian din capitala urma impactului un taxi s a rasturnat iar celalalt automobil\n",
      "7 1 accident lant pe strada muncesti din capitala impactul s a produs cu putin timp urma\n",
      "8 1 accident rutier intersectia strazilor columna – maria cebotari dupa ce un automobil model „bmw” volanul caruia se afla un sofer varsta\n",
      "9 1 (update/foto) accident intersectia columna maria cebotari: un automobil a fost lovit un kamaz\n",
      "10 1 (update/foto) accident intersectia columna maria cebotari: un automobil a fost lovit un kamaz\n",
      "11 0 accidentul a avut loc pe strada mihai viteazul din capitala\n",
      "12 1 accidentul s a produs pe strada calea iesilor din capitala acum cateva minute o dacia logan care apartine unui serviciu paza\n",
      "13 1 accident grav capitala intersectia strazilor sfatul tarii si stefan cel mare doua autovehicole s au ciocnit violent imaginea a fost distribuita\n",
      "14 1 accident pe strada calea iesilor din capitala apropiere intersectia cu strada mesager un automobil model bmw a ajuns\n",
      "15 0 accidentul a avut loc aseara pe strada calea iesilor din sectorul buiucani al capitalei trecatorii au fost primii care au scos victimele\n",
      "16 1 cel putin doua masini au fost implicate intr un accident violent pe soseaua poltava deocamdata nu se cunoaste daca sunt victime din imaginile postate grupul ialoveni orasul soarelui\n",
      "17 0 accidentul a avut loc chiar iesirea din capitala directia leuseni pe soseaua balcani stirea se actualizeaza\n",
      "18 1 accident capitala! doua automobile s au ciocnit intersectia strazii alba iulia cu sucevita informeaza agora\n",
      "potrivi martorilor oculari fata locului se afla politia nu au\n",
      "19 1 inca un accident rutier s a inregistrat aceasta dimineata pe strada vissarion belinski intersectie cu strada ion pelivan din capitala\n",
      "20 1 distruse dupa ce s au tamponat accidentul a avut loc seara zilei duminica 24 septembrie pe strada muncesti din capitala\n",
      "21 1 potrivit politiei totul s a intamplat jurul orei 10:00 pe strada sarmisegetuza din sectorul botanica al capitalei un mercedes a fost grav avariat dupa ce s\n",
      "22 1 sambata 28 octombrie jurul orei 19:00 pe strada vasile alecsandri din or cahul soferul unui autoturism model „ford” a tamponat un barbat 55\n",
      "23 1 accident lant intersectia strazilor bucuresti cu sfatul tarii trei automobile s au tamponat violent aceasta dimineata\n",
      "24 0 accidentul a avut loc intersectia strazilor sfatul tarii si alexei sciusev in urma coleziunii unul dintre automobile a fost proiectat intr un\n",
      "25 0 accidentul a avut loc sambata seara 23 septembrie jurul orei 19:55 pe strada calea iesilor din municipiul balti\n",
      "26 1 un accident rutier a avut loc intersectia strazilor serghei lazo si sciusev\n",
      "27 1 un alt accident s a petrecut pe strada alba iulia din sectorul buiucani al capitalei din imagine se vede cum un microbuz model mercedes\n",
      "28 0 a fost lovita o masina timp ce traversa strada regulamentar accidentul a avut loc aseara pe bulevardul dimitrie cantemir din capitala\n",
      "29 0 accidentul a avut loc intersectia strazilor aeroportului cu bacioii noi soferul kamazului spune ca vinovat ar fi soferul renault lui care ar fi trecut\n",
      "30 1 serviciul „infotrafic” al inspectoratului national patrulare informeaza ca astazi 1 septembrie pe str kiev din sectorul riscani a avut loc un accident din acest motiv regiune circula cu\n",
      "31 1 pe strada kiev 3 s a inregistrat un accident rutier respectiv se circula cu dificultate pe strkiev\n",
      "32 1 s a izbit violent cu masina un pilon electricitate accidentul s a produs aceasta dimineata pe strada doina din sectorul rascani al capitalei\n",
      "33 1 sant dupa ce s a tamponat cu o dacia impactul a avut loc aceasta dimineata pe soseaua balcani\n",
      "34 1 cu accidente in capitala decurs doar cateva ore s au produs doua accidente pe strazile calea basarabiei si mihai viteazu\n",
      "35 1 accident capitala cu implicarea unui troleibuz impactul a avut loc pe bulevardul stefan cel mare intersectie cu serghei lazo\n",
      "36 1 s a produs ieri seara aproximativ ora 20:25 intersectia bd stefan cel mare 128 a cu str testimitanu mun balti\n",
      "37 1 doua microbuze s au tamponat cu ceva timp urma sectorul ciocana al capitalei accidentul este unul minor dar a provocat ambuteiaje zona\n",
      "38 1 potrivit inspectoratului national patrulare accidentul s a produs intersectia strazilor maria dragan si ciocana\n",
      "39 1 un accident cu implicarea unui microbuz pe linia 184 s a produs aceasta dimineata pe strada ismail din capitala unul dintre cei doi pasageri din maxi taxi sustine ca soferul ar\n",
      "40 1 accident grav straseni un copil care se afla sanius pe strada 1 mai spre strada unirii a intrat sub roata unei masini care se deplasa regulamentar\n",
      "41 0 a ajuns cu bmw ul int o statie statie transport public incidentul a avut loc aceasta dimineata pe strada dimo din oraselul durlesti\n",
      "42 1 accident grav sectorul ciocana doua autoturisme model opel si wolkswagen s au tamponat rondul intersectia strazilor alecu russo cu mihai sadoveanu potrivit martorilor oculari doua persoane au suferit leziuni usoare fata\n",
      "43 0 str alecu russo 1 21 chisinau md 2068 republica moldova tel: (022) 49 87 70 mob:\n",
      "44 1 patru persoane au fost transportate spitalul urgenta urma unui accident pe soseau balcani intersectie cu strada deleanu\n",
      "45 1 24 a fost lovit un autoturism aseara sectorul rascani al capitalei totul s a intamplat pe strada alecu russo timp ce soferul unui automobil marca toyota a incercat sa depaseasca o alta\n",
      "46 0 ani a fost spitalizat dupa ce a fost spulberat o masina langa o trecere pietoni pe strada gheorghe asachi din capitala\n",
      "47 1 etichete: accident chisinaudepasire pe contrasensmercedes prin intre masinistrada ciufleatriplu ghinion\n",
      "48 1 accident violent cu implicarea a trei automobile intersectia strazilor vasile alecsandri si mihail kogilniceanu din capitala\n",
      "49 1 urma unui accident produs acum o ora capitala incidentul a avut loc intersectia strazilor drumul viilor si george meniuc\n",
      "50 0 poze pe adresa email a redactiei ziarul national accidentul a avut loc jurul orei 1230 pe strada stefan cel mare din balti\n",
      "51 1 un accident rutier a avut loc aceasta dimineata intersectia strazilor mihai eminescu cu alexandru cel bun din municipiului ungheni imediata vecinatate a consulatului romaniei\n",
      "52 1 un autoturism model mazda 121 care se deplasa pe str mihai eminescu s a ciocnit cu un minivan model mercedes vito ce se deplasa pe\n",
      "53 1 un accident grav s a produs pe strada ismail intersectie cu calea basarabiei soferul unui camion a strivit un tanar care se deplasa pe o motoreta\n",
      "54 0 zona s au creat ambuteiaje kilometrice coloana masini blocand traficul calea basarabiei pana regiunea circului\n",
      "55 1 pe strismail apropiere intersectie cu strcalea basarabiei este inregistrat accident rutier un motociclist s a tamponat intr\n",
      "56 0 zona se circula cu dificultate pe strismail directia spre strcalea basarabiei astfel serviciul ”infotrafic” recomanda conducatorilor auto:\n",
      "57 0 timp urma acesta a deraiat si s a izbit cu masina gardul protectie al podului pe strada ismail\n",
      "58 1 accident rutier pe strada costiujeni codru cu implicarea a doua autoturisme nimeni nu a avut suferit\n",
      "59 1 potrivit politiei totul s a intamplat jurul orei 23:00 intersectia strazilor onisifor ghibu cu alba iulia un volkswagen condus un tanar 27 ani s a ciocnit violent cu o skoda\n",
      "60 0 inceput cu ghinion pentru trei soferi masinile acestora s au tompanat timp ce se deplasau pe strada miorita sin chisinau\n",
      "61 0 a avut loc dupa amiaza acestei zile 6 septembrie jurul orei 14:35 intersectia strazilor ion ganea si mihail lomonosov din cartierul malina mica mun chisinau\n",
      "62 1 al capitalei un taximetrist a ajuns spital dupa ce a provocat un accident lant intersectia strazilor decebal si trandafirilor\n",
      "63 0 potrivit martorilor soferita 25 ani circula pe strada vlaicu parcalab iar bmw ul pe mihail kogalniceanu dupa producerea accidentului soferul bmw ul a\n",
      "64 1 accident lant pe strada alexei mateevici din capitala patru masini s au ciocnit dupa ce conducatorul primului automobil se pare ca a\n",
      "65 0 impactul a avut loc intersectia strazii 31 august cu strada ismail\n",
      "66 0 soferul imediat a fost somat sa se stopeze insa acesta a refuzat deplasandu se spre intersectia strazilor ismail cu kogalniceanu unde a accidentat un automobil parcat pe trotuar\n",
      "67 1 pe strada a puskin intersectie cu bulevardul stefan cel mare este inregistrat accident rutier respectiv se circula cu dificultate perimetrul intersectiei cauza\n",
      "68 1 accidentul s a intamplat aceasta dupa amiaza pe bulevardul stefan cel mare intersectie cu strada vlaicu parcalabpotrivit politiei adolescentul traversa regulamentar strada cand a fost lovit puiternic o masina marca\n",
      "69 1 accidentul s a intamplat aceasta dupa amiaza pe bulevardul stefan cel mare intersectie cu strada vlaicu parcalabpotrivit politiei adolescentul traversa regulamentar strada cand a fost lovit puiternic o masina marca\n",
      "70 1 accident grav capitala patru masini s au tamponat pe strada stefan cel mare intersectie cu vlaicu pircalab\n",
      "71 1 politia capitalei a fost solicitata sa intervina intr un caz tamponare e unei femei produs pe bulervadul dacia tecerea pentru pietoni fata locului a s a deplasat grupa operativa care a constatat\n",
      "72 1 vehicule s au ciocnit lant accidentul a avut loc dupa amiaza acestei zile 7 noiembrie pe strada miorita din capitala\n",
      "73 0 update: serviciul „infotrafic” anunta ca accidentul a avut loc pe str miorita apropiere intersectie cu str gh asachi si ca se circula cu dificultate pe str\n",
      "74 1 un panou publicitar dupa ce a derapat pe traseu accidentul s a produs aceasta dimineata pe soseaua hancesti telecentru\n",
      "75 0 zile jurul orei 12:00 cu implicarea unei masini serviciu a politiei acesta a avut loc intersectia bulevardului stefan cel mare si sfant cu strada armeneasca din chisinau\n",
      "76 1 ce microbuzul care se aflau s a ciocnit cu un automobil impactul a avut loc intersectia bulevardului dacia cu strada trandafirilor din chisinau\n",
      "77 1 urma unui accident rutier incidentul a avut loc din cauza neatentiei unuia dintre conducatorii auto intersectia strazilor ion creanga si eugen coca din sectorul buiucani al capitalei\n",
      "78 1 mai exact un sofer varsta 25 ani aflat volanul unui autoturism marca rover se deplasa pe strada ion creanga s a angajat intr o virare stanga dar nu s a asigurat sa\n",
      "79 1 potrivit martorului ocular accidentul s a produs intersectia strazilor vasile alecsandri si bucuresti din centru capitalei\n",
      "80 1 reporterul sputnik moldova a fost martorul unui accident produs aceasta dimineata pe strada uzinelor din capitala cauzat lipsa respect trafic\n",
      "81 1 sputnik miercuri dimineata reporterul sputnik a fost martorul unui accident rutier care a avut loc pe strada uzinelor din municipiul chisinau pe directia dinspre gara auto nord spre fabrica bere\n",
      "82 1 o ora mai tarziu tot pe strada uzinelor a mai avut loc un accident rutier un tir lovind din spate un mitsubishi\n",
      "83 0 echipajul 902 se deplasa o interventie pe strada studentilor iar celalalt vehicul venea din directia opusa\n",
      "84 1 aceasta dimineata un automobil model nissan a derapat pe strada calea orheiului ceucari si a lovit un gard pe marginea drumului\n",
      "85 1 a nins cu inca un accident capitala aceasta data pe strada calea orheiului din cartierul posta veche\n",
      "86 1 accident pe podul pe strada ismail intersectie cu strada albisoara din chisinau un motociclist s a lovit intr un automobil\n",
      "87 1 intersectia strazilor vadul lui voda cu mesterul manole din capitala a fost inregistrat un accident rutier cu implicarea a trei\n",
      "88 1 un accident lant a avut loc aceasta dimineata pe strada vadul lui voda din capitala urma impactului o persoana a murit\n",
      "89 1 potrivt politei accidentul a avut loc acum o ora pe podul intersectia strazilor muncesti cu gradina botanica soferul mercedes ului ar fi pierdut controlul volanului a derapat si s a\n",
      "90 1 accidentul s a produs astazi intersectia bulevardului stefan cel mare cu strada mihai eminescu un automobil s a ciocnit cu un troleibuzin urma impactului automobilul a fost\n",
      "91 1 a oprit fiind lovit o masina timp ce travesa strada incidentul a avut loc aseara intersectia strazilor vasile alecsandri si mitropolit varlaam din centrul capitalei\n"
     ]
    }
   ],
   "source": [
    "i=0\n",
    "kw = ['tamponat', 'sofer', 'tampon', 'produs', 'avariat', 'accident','masin','ciocnit','incident','derap','impact','virar','intrat','traged','coliziun','lovit','mortal','pierdut','rasturnat']\n",
    "verb = ['produs','apropiere','dat','intrat','fost','integistrat']\n",
    "same = [['produs','avut loc','intamplat'],['masina','rutiera','autobuz','moticicleta'],['pieton','femeie','barbat','copil','victim','decedat','traumat'],\n",
    "        ['accident','tragedie','coloziun','incident'],\n",
    "        ['ciocnit','derapat','tamponat','derap','rasturnat']\n",
    "        ]\n",
    "bad = ['locuit','este din','originar din','locu']\n",
    "sv = []\n",
    "for id,t in enumerate(dd):\n",
    "  h = 100\n",
    "  ww=t[1]\n",
    "  if True:\n",
    "      ac = '0'\n",
    "      for k in kw:\n",
    "        if k in ww:\n",
    "          ac='1'\n",
    "      for k in bad:\n",
    "        if k in ww:\n",
    "          ac='0-'\n",
    "      \n",
    "      sv.append([str(id),' '.join(ww),'1',''])\n",
    "      dd[id].append(ac)\n",
    "      if len(ww)>0:\n",
    "        w = ' '.join(ww)\n",
    "        if len(w)<1000:\n",
    "          i+=1\n",
    "          ww=[]\n",
    "          print(i,ac,w)\n",
    "savepack('../data/raw/generate_data/s.csv',sv,['id','text','y','com'])"
   ]
  },
  {
   "cell_type": "code",
   "execution_count": null,
   "metadata": {
    "id": "iLntSRMYcm0-"
   },
   "outputs": [],
   "source": []
  },
  {
   "cell_type": "code",
   "execution_count": null,
   "metadata": {
    "id": "LQVPDNKVZpJq"
   },
   "outputs": [],
   "source": [
    "\n"
   ]
  },
  {
   "cell_type": "code",
   "execution_count": null,
   "metadata": {
    "id": "kVoRZ5NmclOI"
   },
   "outputs": [],
   "source": []
  },
  {
   "cell_type": "code",
   "execution_count": 12,
   "metadata": {
    "colab": {
     "base_uri": "https://localhost:8080/"
    },
    "id": "nawj4n3FuS52",
    "outputId": "1382dd96-eaaf-4a44-928b-fdb7f12842e0"
   },
   "outputs": [
    {
     "data": {
      "text/plain": [
       "(36, 379, 464, 527, 39)"
      ]
     },
     "execution_count": 12,
     "metadata": {},
     "output_type": "execute_result"
    }
   ],
   "source": [
    "stp = ['şoseaua']\n",
    "nr = 0\n",
    "w=0\n",
    "def intext(d, text):\n",
    "  #return text.find(d)!=-1\n",
    "  return text.find(d.replace('-',' ').replace('muncest','munc').replace('soseau','').replace('bd.','').lower().replace('str.','').replace('strad','').replace('soseaua','').replace('Şoseaua','').replace('  ',' ').replace('bulevard','').strip())!=-1\n",
    "    \n",
    "win = {}\n",
    "wout = {}\n",
    "wst = {}\n",
    "x = []\n",
    "y = []\n",
    "stt = []\n",
    "w1=0\n",
    "for d in db:\n",
    "  text = ','.join(d['text']).lower()\n",
    "  if  len(d['street'])==0 or d['street'] is None:\n",
    "      continue  \n",
    "  #text.replace('str.','strada')\n",
    "  if intext(d['street'], text):\n",
    "    stt.append(d['street'])\n",
    "    for w in d['street'].split(' '):\n",
    "          if w not in wst:\n",
    "            wst[w]=0\n",
    "          wst[w]+=1\n",
    "    nr+=1\n",
    "    for t in d['text']:\n",
    "      x.append(t)\n",
    "      if intext(d['street'], t):\n",
    "        y.append(1)\n",
    "        for w in t.split(' '):\n",
    "          if w not in win:\n",
    "            win[w]=0\n",
    "          win[w]+=1\n",
    "      else:\n",
    "        y.append(0)\n",
    "        for w in t.split(' '):\n",
    "          if w not in wout:\n",
    "            wout[w]=0\n",
    "          wout[w]+=1\n",
    "  else:\n",
    "    if 0:\n",
    "      print(d['text'])\n",
    "      print(d['street'],',', d['location'])\n",
    "      print(d['photo_link'])\n",
    "      w1+=1\n",
    "      if w1>18:\n",
    "        break\n",
    "import numpy as np\n",
    "nr, len(db), len(win), len(x), np.sum(y)"
   ]
  },
  {
   "cell_type": "code",
   "execution_count": 44,
   "metadata": {
    "colab": {
     "base_uri": "https://localhost:8080/"
    },
    "id": "2FsXNUQB6-Qt",
    "outputId": "12216dd3-99d4-4bd1-db4b-dac18ef6b6f2"
   },
   "outputs": [
    {
     "name": "stdout",
     "output_type": "stream",
     "text": [
      "in: intersect -\n",
      "out intersect -\n",
      "in: strad -\n",
      "out strad -\n",
      "in: bulevard -\n",
      "out bulevard -\n",
      "in: sos -\n",
      "out sos -\n",
      "in: sat -\n",
      "out sat -\n",
      "in: oras -\n",
      "out oras 1\n",
      "in: raion -\n",
      "out raion -\n",
      "in: capital -\n",
      "out capital -\n",
      "in: sector -\n",
      "out sector -\n"
     ]
    }
   ],
   "source": [
    "keyword  = ['intersectia','strada','bulevard','sosea','sat','oras','raion','capitala','sector']\n",
    "st = RomanianStemmer()\n",
    "for q in keyword:\n",
    "  w = st.stem(q)\n",
    "  print('in:',w,win[w] if w in win else '-')\n",
    "  print('out',w,wout[w] if w in wout else '-')"
   ]
  },
  {
   "cell_type": "code",
   "execution_count": null,
   "metadata": {
    "id": "g0FhaE6dQNGU"
   },
   "outputs": [],
   "source": []
  },
  {
   "cell_type": "code",
   "execution_count": 14,
   "metadata": {
    "id": "HrqeTY8K_ghR"
   },
   "outputs": [],
   "source": [
    "i=0\n",
    "kw = ['tamponat', 'sofer', 'produs', 'accident','masin','ciocnit','incident','derap','impact','virar','intrat','traged','coliziun','lovit','mortal','pierdut','rasturnat']\n",
    "verb = ['produs','apropiere','dat','intrat','fost','integistrat']\n",
    "same = [['produs','avut loc','intamplat'],['masina','rutiera','autobuz','moticicleta'],['pieton','femeie','barbat','copil','victim','decedat','traumat'],\n",
    "        ['accident','tragedie','coloziun','incident'],\n",
    "        ['ciocnit','derapat','tamponat','derap','rasturnat']\n",
    "        ]\n",
    "bad = ['locuit','este din','originar din','locu']\n",
    "sv = []\n",
    "for id,t in enumerate(x):\n",
    "  h = 100\n",
    "  www=t.split(' ')\n",
    "  ww = []\n",
    "  for j,w in enumerate(www):\n",
    "    if w == \"intersect\":\n",
    "      ww = www[max(0,j-16):min(len(www),j+10)]\n",
    "      ac = '0'\n",
    "      for k in kw:\n",
    "        if k in ww:\n",
    "          ac='1'\n",
    "      for k in bad:\n",
    "        if k in ww:\n",
    "          ac='0-'\n",
    "      \n",
    "      sv.append([str(id),' '.join(ww),'1',''])\n",
    "      if len(ww)>0:\n",
    "        w = ' '.join(ww)\n",
    "        if len(w)<1000:\n",
    "          i+=1\n",
    "          ww=[]\n",
    "          print(ac,i,w)\n",
    "savepack('../data/raw/generate_data/s.csv',sv,['id','text','y','com'])"
   ]
  },
  {
   "cell_type": "code",
   "execution_count": null,
   "metadata": {
    "id": "B5IB1SW6_YBV"
   },
   "outputs": [],
   "source": []
  },
  {
   "cell_type": "code",
   "execution_count": 15,
   "metadata": {
    "colab": {
     "base_uri": "https://localhost:8080/",
     "height": 799
    },
    "id": "JeWkUPTlJYYz",
    "outputId": "0f8eebfd-2292-494f-ce3c-c0e8b5b52543"
   },
   "outputs": [
    {
     "data": {
      "text/plain": [
       "[['strada', 32],\n",
       " ['calea', 4],\n",
       " ['ismail', 4],\n",
       " ['iesilor', 3],\n",
       " ['trandafirilor', 2],\n",
       " ['mihai', 2],\n",
       " ['soseaua', 2],\n",
       " ['balcani', 2],\n",
       " ['ion', 2],\n",
       " ['bulevardul', 2],\n",
       " ['miorita', 2],\n",
       " ['valea', 1],\n",
       " ['crucii', 1],\n",
       " ['maria', 1],\n",
       " ['cebotari', 1],\n",
       " ['viteazul', 1],\n",
       " ['pelivan', 1],\n",
       " ['vasile', 1],\n",
       " ['alecsandri', 1],\n",
       " ['alba', 1],\n",
       " ['iulia', 1],\n",
       " ['dimitrie', 1],\n",
       " ['cantemir', 1],\n",
       " ['kiev', 1],\n",
       " ['doina', 1],\n",
       " ['1', 1],\n",
       " ['mai', 1],\n",
       " ['dimo', 1],\n",
       " ['alecu', 1],\n",
       " ['russo', 1],\n",
       " ['gheorghe', 1],\n",
       " ['asachi', 1],\n",
       " ['ciuflea', 1],\n",
       " ['stefan', 1],\n",
       " ['cel', 1],\n",
       " ['mare', 1],\n",
       " ['costiujeni', 1],\n",
       " ['alexei', 1],\n",
       " ['mateevici', 1],\n",
       " ['dacia', 1],\n",
       " ['creanga', 1],\n",
       " ['uzinelor', 1],\n",
       " ['orheiului', 1],\n",
       " ['vadul', 1],\n",
       " ['lui', 1],\n",
       " ['voda', 1],\n",
       " ['eminescu', 1]]"
      ]
     },
     "execution_count": 15,
     "metadata": {},
     "output_type": "execute_result"
    }
   ],
   "source": [
    "swtl = sorted([[i,j] for i,j in wst.items()], key=lambda x: x[1], reverse=True)\n",
    "swtl"
   ]
  },
  {
   "cell_type": "code",
   "execution_count": 16,
   "metadata": {
    "colab": {
     "base_uri": "https://localhost:8080/",
     "height": 34
    },
    "id": "_WaXncNBBqjV",
    "outputId": "bc31326f-0051-4d0b-82f2-edc515706609"
   },
   "outputs": [
    {
     "data": {
      "text/plain": [
       "(527, 2102)"
      ]
     },
     "execution_count": 16,
     "metadata": {},
     "output_type": "execute_result"
    }
   ],
   "source": [
    "from sklearn.feature_extraction.text import CountVectorizer\n",
    "count_vect = CountVectorizer()\n",
    "X_train_counts = count_vect.fit_transform(x)\n",
    "X_train_counts.shape\n"
   ]
  },
  {
   "cell_type": "code",
   "execution_count": 17,
   "metadata": {
    "colab": {
     "base_uri": "https://localhost:8080/",
     "height": 34
    },
    "id": "4Zj1vrMpB1jr",
    "outputId": "74a3b73f-4ed2-4c3e-ef6c-d8c0dd15dafb"
   },
   "outputs": [
    {
     "data": {
      "text/plain": [
       "(527, 2102)"
      ]
     },
     "execution_count": 17,
     "metadata": {},
     "output_type": "execute_result"
    }
   ],
   "source": [
    "from sklearn.feature_extraction.text import TfidfTransformer\n",
    "tfidf_transformer = TfidfTransformer()\n",
    "X_train_tfidf = tfidf_transformer.fit_transform(X_train_counts)\n",
    "X_train_tfidf.shape"
   ]
  },
  {
   "cell_type": "code",
   "execution_count": 18,
   "metadata": {
    "id": "jpL5K8PaCF4F"
   },
   "outputs": [],
   "source": [
    "from sklearn.model_selection import train_test_split\n",
    "X_train, X_test, y_train, y_test = train_test_split(X_train_tfidf, y, test_size=0.33, random_state=42)"
   ]
  },
  {
   "cell_type": "code",
   "execution_count": 19,
   "metadata": {
    "colab": {
     "base_uri": "https://localhost:8080/",
     "height": 34
    },
    "id": "v-EkldD5B6Dw",
    "outputId": "7a9a1d94-e9a3-4c85-8b59-66a4df87657c"
   },
   "outputs": [
    {
     "data": {
      "text/plain": [
       "0.9022988505747126"
      ]
     },
     "execution_count": 19,
     "metadata": {},
     "output_type": "execute_result"
    }
   ],
   "source": [
    "from sklearn.naive_bayes import MultinomialNB\n",
    "import numpy as np\n",
    "clf = MultinomialNB().fit(X_train, y_train)\n",
    "predicted = clf.predict(X_test)\n",
    "np.mean(predicted == y_test)"
   ]
  },
  {
   "cell_type": "code",
   "execution_count": 20,
   "metadata": {
    "colab": {
     "base_uri": "https://localhost:8080/",
     "height": 34
    },
    "id": "B5hzIPMuCaM3",
    "outputId": "e4bf4dec-72ec-4544-b262-eeaf1c2b9049"
   },
   "outputs": [
    {
     "data": {
      "text/plain": [
       "0.9655172413793104"
      ]
     },
     "execution_count": 20,
     "metadata": {},
     "output_type": "execute_result"
    }
   ],
   "source": [
    "from sklearn.linear_model import SGDClassifier\n",
    "clf = SGDClassifier(loss='hinge', penalty='l2',alpha=1e-3, random_state=42).fit(X_train, y_train)\n",
    "predicted = clf.predict(X_test)\n",
    "np.mean(predicted == y_test)"
   ]
  },
  {
   "cell_type": "code",
   "execution_count": 21,
   "metadata": {
    "id": "nkyp0qZTC5yQ"
   },
   "outputs": [],
   "source": [
    "from sklearn.pipeline import Pipeline\n",
    "text_clf = Pipeline([('vect', CountVectorizer()),\n",
    "                      ('tfidf', TfidfTransformer()),\n",
    "                    ('clf', MultinomialNB()),\n",
    " ])"
   ]
  },
  {
   "cell_type": "code",
   "execution_count": 22,
   "metadata": {
    "id": "XDoMtH3XCxrO"
   },
   "outputs": [],
   "source": [
    "from sklearn.model_selection import GridSearchCV\n",
    "parameters = {'vect__ngram_range': [(1, 1), (1, 2)],\n",
    "            \n",
    "               'clf__alpha': (1e-2, 1e-3) }\n",
    "X_train, X_test, y_train, y_test = train_test_split(x, y, test_size=0.33, random_state=42)"
   ]
  },
  {
   "cell_type": "code",
   "execution_count": 23,
   "metadata": {
    "id": "MTrOf5VrB_AO"
   },
   "outputs": [
    {
     "data": {
      "text/plain": [
       "0.9425287356321839"
      ]
     },
     "execution_count": 23,
     "metadata": {},
     "output_type": "execute_result"
    }
   ],
   "source": [
    "gs_clf = GridSearchCV(text_clf, parameters, n_jobs=-1)\n",
    "gs_clf = gs_clf.fit(X_train, y_train)\n",
    "predicted = gs_clf.predict(X_test)\n",
    "np.mean(predicted == y_test)"
   ]
  },
  {
   "cell_type": "code",
   "execution_count": null,
   "metadata": {
    "id": "XxbyoydTEQOT"
   },
   "outputs": [],
   "source": []
  },
  {
   "cell_type": "code",
   "execution_count": 24,
   "metadata": {
    "colab": {
     "base_uri": "https://localhost:8080/",
     "height": 1000
    },
    "id": "dwhPnQXl73-j",
    "outputId": "33e450d0-7641-473a-e6a0-c1b7bb0deff7"
   },
   "outputs": [
    {
     "data": {
      "text/plain": [
       "([['a', 194],\n",
       "  ['', 133],\n",
       "  ['si', 106],\n",
       "  ['cu', 73],\n",
       "  ['sa', 70],\n",
       "  ['au', 62],\n",
       "  ['o', 61],\n",
       "  ['un', 61],\n",
       "  ['pe', 55],\n",
       "  ['ca', 55],\n",
       "  ['fost', 54],\n",
       "  ['se', 52],\n",
       "  ['{', 50],\n",
       "  ['din', 47],\n",
       "  ['=', 47],\n",
       "  ['nu', 46],\n",
       "  ['s', 41],\n",
       "  ['pentru', 40],\n",
       "  ['/', 36],\n",
       "  ['}', 34],\n",
       "  ['(video)', 28],\n",
       "  ['2020', 28],\n",
       "  ['soferul', 27],\n",
       "  ['mai', 27],\n",
       "  ['care', 27],\n",
       "  ['accident', 26],\n",
       "  ['iar', 23],\n",
       "  ['var', 23],\n",
       "  ['ce', 22],\n",
       "  ['masini', 21]],\n",
       " [['a', 76],\n",
       "  ['pe', 45],\n",
       "  ['un', 38],\n",
       "  ['strada', 38],\n",
       "  ['din', 27],\n",
       "  ['s', 23],\n",
       "  ['cu', 21],\n",
       "  ['o', 16],\n",
       "  ['avut', 16],\n",
       "  ['accident', 16],\n",
       "  ['fost', 15],\n",
       "  ['loc', 14],\n",
       "  ['accidentul', 13],\n",
       "  ['capitala', 13],\n",
       "  ['automobil', 10],\n",
       "  ['se', 10],\n",
       "  ['dimineata', 9],\n",
       "  ['au', 8],\n",
       "  ['aceasta', 8],\n",
       "  ['ce', 8],\n",
       "  ['model', 7],\n",
       "  ['produs', 7],\n",
       "  ['care', 7],\n",
       "  ['unui', 7],\n",
       "  ['ani', 7],\n",
       "  ['intersectia', 6],\n",
       "  ['si', 6],\n",
       "  ['sectorul', 6],\n",
       "  ['urma', 6],\n",
       "  ['rutier', 6]])"
      ]
     },
     "execution_count": 24,
     "metadata": {},
     "output_type": "execute_result"
    }
   ],
   "source": [
    "winl = sorted([[i,j] for i,j in win.items()], key=lambda x: x[1], reverse=True)\n",
    "woutl = sorted([[i,j] for i,j in wout.items()], key=lambda x: x[1], reverse=True)\n",
    "woutl[:30], winl[:30]"
   ]
  },
  {
   "cell_type": "code",
   "execution_count": null,
   "metadata": {
    "id": "9umhngPfatnx"
   },
   "outputs": [],
   "source": [
    "\n"
   ]
  },
  {
   "cell_type": "code",
   "execution_count": 25,
   "metadata": {
    "colab": {
     "base_uri": "https://localhost:8080/",
     "height": 231
    },
    "id": "96S47ixWkpZr",
    "outputId": "870cc553-0f0c-4250-bc27-39182ea1669f"
   },
   "outputs": [
    {
     "data": {
      "text/plain": [
       "[]"
      ]
     },
     "execution_count": 25,
     "metadata": {},
     "output_type": "execute_result"
    }
   ],
   "source": [
    "b = []\n",
    "hd = None\n",
    "with open('../data/raw/generate_data/text_db.csv') as csvfile:\n",
    "    readCSV = csv.reader(csvfile, delimiter=',')\n",
    "    \n",
    "    for row in readCSV:\n",
    "        if hd is None:\n",
    "          hd = row\n",
    "          continue\n",
    "        b.append({u: row[i] for i,u in enumerate(hd)})\n",
    "b[:1]"
   ]
  },
  {
   "cell_type": "code",
   "execution_count": 26,
   "metadata": {
    "colab": {
     "base_uri": "https://localhost:8080/",
     "height": 34
    },
    "id": "RjVgtq88Erjv",
    "outputId": "4b1a1588-d493-4d11-a7ac-af82040faf66"
   },
   "outputs": [
    {
     "data": {
      "text/plain": [
       "112"
      ]
     },
     "execution_count": 26,
     "metadata": {},
     "output_type": "execute_result"
    }
   ],
   "source": [
    "hasT = [f for f in a if f['photo_link'].find('.jpg')!=-1]\n",
    "len(hasT)"
   ]
  },
  {
   "cell_type": "code",
   "execution_count": 27,
   "metadata": {
    "colab": {
     "base_uri": "https://localhost:8080/",
     "height": 102
    },
    "id": "ME3MBvx3F9hg",
    "outputId": "8a8f2770-9d31-476b-edbb-3ca11a6bc7b7"
   },
   "outputs": [
    {
     "data": {
      "text/plain": [
       "['https://i.imgur.com/tcz3Qxr.jpg?1',\n",
       " 'https://media.publika.md/md/image/201902/w720/accident_94453600.jpg',\n",
       " 'https://media.publika.md/md/image/201902/w720/2c21c013eb758f9e5967843c3c09f36dd26ca732_36746400.jpg',\n",
       " 'https://media.publika.md/md/image/201902/w720/51429086_648554888934620_3010909367420583936_n_08031000.jpg',\n",
       " 'https://i.imgur.com/TjzDy6r.jpg']"
      ]
     },
     "execution_count": 27,
     "metadata": {},
     "output_type": "execute_result"
    }
   ],
   "source": [
    "[f['photo_link'] for f in hasT[:5]]"
   ]
  },
  {
   "cell_type": "code",
   "execution_count": 28,
   "metadata": {
    "colab": {
     "base_uri": "https://localhost:8080/",
     "height": 51
    },
    "id": "3LzXPFRsGQ_M",
    "outputId": "db8821cc-76a5-44ac-abb4-d1c14e73228b"
   },
   "outputs": [
    {
     "name": "stderr",
     "output_type": "stream",
     "text": [
      "Some characters could not be decoded, and were replaced with REPLACEMENT CHARACTER.\n"
     ]
    },
    {
     "data": {
      "text/plain": [
       "[]"
      ]
     },
     "execution_count": 28,
     "metadata": {},
     "output_type": "execute_result"
    }
   ],
   "source": [
    "def getText(url):\n",
    "      try:\n",
    "        page = requests.get(url)\n",
    "      except:\n",
    "        return None\n",
    "      soup = BeautifulSoup(page.content, 'html.parser')\n",
    "      return soup\n",
    "\n",
    "soup = getText(hasT[2]['photo_link'])\n",
    "[p.get_text() for p in soup.find_all('p') ]"
   ]
  },
  {
   "cell_type": "code",
   "execution_count": 29,
   "metadata": {
    "colab": {
     "base_uri": "https://localhost:8080/",
     "height": 1000
    },
    "id": "_PyOnUk2NHav",
    "outputId": "b805654c-a9f3-484c-b301-edcdeddf5d3e"
   },
   "outputs": [
    {
     "name": "stderr",
     "output_type": "stream",
     "text": [
      "Some characters could not be decoded, and were replaced with REPLACEMENT CHARACTER.\n",
      "Some characters could not be decoded, and were replaced with REPLACEMENT CHARACTER.\n",
      "Some characters could not be decoded, and were replaced with REPLACEMENT CHARACTER.\n",
      "Some characters could not be decoded, and were replaced with REPLACEMENT CHARACTER.\n",
      "Some characters could not be decoded, and were replaced with REPLACEMENT CHARACTER.\n",
      "Some characters could not be decoded, and were replaced with REPLACEMENT CHARACTER.\n",
      "Some characters could not be decoded, and were replaced with REPLACEMENT CHARACTER.\n",
      "Some characters could not be decoded, and were replaced with REPLACEMENT CHARACTER.\n",
      "Some characters could not be decoded, and were replaced with REPLACEMENT CHARACTER.\n",
      "Some characters could not be decoded, and were replaced with REPLACEMENT CHARACTER.\n",
      "Some characters could not be decoded, and were replaced with REPLACEMENT CHARACTER.\n",
      "Some characters could not be decoded, and were replaced with REPLACEMENT CHARACTER.\n",
      "Some characters could not be decoded, and were replaced with REPLACEMENT CHARACTER.\n",
      "Some characters could not be decoded, and were replaced with REPLACEMENT CHARACTER.\n",
      "Some characters could not be decoded, and were replaced with REPLACEMENT CHARACTER.\n",
      "Some characters could not be decoded, and were replaced with REPLACEMENT CHARACTER.\n",
      "Some characters could not be decoded, and were replaced with REPLACEMENT CHARACTER.\n",
      "Some characters could not be decoded, and were replaced with REPLACEMENT CHARACTER.\n",
      "Some characters could not be decoded, and were replaced with REPLACEMENT CHARACTER.\n",
      "Some characters could not be decoded, and were replaced with REPLACEMENT CHARACTER.\n",
      "Some characters could not be decoded, and were replaced with REPLACEMENT CHARACTER.\n",
      "Some characters could not be decoded, and were replaced with REPLACEMENT CHARACTER.\n",
      "Some characters could not be decoded, and were replaced with REPLACEMENT CHARACTER.\n",
      "Some characters could not be decoded, and were replaced with REPLACEMENT CHARACTER.\n",
      "Some characters could not be decoded, and were replaced with REPLACEMENT CHARACTER.\n",
      "Some characters could not be decoded, and were replaced with REPLACEMENT CHARACTER.\n",
      "Some characters could not be decoded, and were replaced with REPLACEMENT CHARACTER.\n",
      "Some characters could not be decoded, and were replaced with REPLACEMENT CHARACTER.\n",
      "Some characters could not be decoded, and were replaced with REPLACEMENT CHARACTER.\n",
      "Some characters could not be decoded, and were replaced with REPLACEMENT CHARACTER.\n",
      "Some characters could not be decoded, and were replaced with REPLACEMENT CHARACTER.\n",
      "Some characters could not be decoded, and were replaced with REPLACEMENT CHARACTER.\n",
      "Some characters could not be decoded, and were replaced with REPLACEMENT CHARACTER.\n",
      "Some characters could not be decoded, and were replaced with REPLACEMENT CHARACTER.\n",
      "Some characters could not be decoded, and were replaced with REPLACEMENT CHARACTER.\n",
      "Some characters could not be decoded, and were replaced with REPLACEMENT CHARACTER.\n",
      "Some characters could not be decoded, and were replaced with REPLACEMENT CHARACTER.\n",
      "Some characters could not be decoded, and were replaced with REPLACEMENT CHARACTER.\n",
      "Some characters could not be decoded, and were replaced with REPLACEMENT CHARACTER.\n",
      "Some characters could not be decoded, and were replaced with REPLACEMENT CHARACTER.\n",
      "Some characters could not be decoded, and were replaced with REPLACEMENT CHARACTER.\n",
      "Some characters could not be decoded, and were replaced with REPLACEMENT CHARACTER.\n",
      "Some characters could not be decoded, and were replaced with REPLACEMENT CHARACTER.\n",
      "Some characters could not be decoded, and were replaced with REPLACEMENT CHARACTER.\n",
      "Some characters could not be decoded, and were replaced with REPLACEMENT CHARACTER.\n",
      "Some characters could not be decoded, and were replaced with REPLACEMENT CHARACTER.\n",
      "Some characters could not be decoded, and were replaced with REPLACEMENT CHARACTER.\n",
      "Some characters could not be decoded, and were replaced with REPLACEMENT CHARACTER.\n",
      "Some characters could not be decoded, and were replaced with REPLACEMENT CHARACTER.\n",
      "Some characters could not be decoded, and were replaced with REPLACEMENT CHARACTER.\n",
      "Some characters could not be decoded, and were replaced with REPLACEMENT CHARACTER.\n",
      "Some characters could not be decoded, and were replaced with REPLACEMENT CHARACTER.\n",
      "Some characters could not be decoded, and were replaced with REPLACEMENT CHARACTER.\n",
      "Some characters could not be decoded, and were replaced with REPLACEMENT CHARACTER.\n",
      "Some characters could not be decoded, and were replaced with REPLACEMENT CHARACTER.\n",
      "Some characters could not be decoded, and were replaced with REPLACEMENT CHARACTER.\n",
      "Some characters could not be decoded, and were replaced with REPLACEMENT CHARACTER.\n",
      "Some characters could not be decoded, and were replaced with REPLACEMENT CHARACTER.\n",
      "Some characters could not be decoded, and were replaced with REPLACEMENT CHARACTER.\n",
      "Some characters could not be decoded, and were replaced with REPLACEMENT CHARACTER.\n",
      "Some characters could not be decoded, and were replaced with REPLACEMENT CHARACTER.\n",
      "Some characters could not be decoded, and were replaced with REPLACEMENT CHARACTER.\n",
      "Some characters could not be decoded, and were replaced with REPLACEMENT CHARACTER.\n",
      "Some characters could not be decoded, and were replaced with REPLACEMENT CHARACTER.\n",
      "Some characters could not be decoded, and were replaced with REPLACEMENT CHARACTER.\n",
      "Some characters could not be decoded, and were replaced with REPLACEMENT CHARACTER.\n",
      "Some characters could not be decoded, and were replaced with REPLACEMENT CHARACTER.\n",
      "Some characters could not be decoded, and were replaced with REPLACEMENT CHARACTER.\n",
      "Some characters could not be decoded, and were replaced with REPLACEMENT CHARACTER.\n",
      "Some characters could not be decoded, and were replaced with REPLACEMENT CHARACTER.\n",
      "Some characters could not be decoded, and were replaced with REPLACEMENT CHARACTER.\n",
      "Some characters could not be decoded, and were replaced with REPLACEMENT CHARACTER.\n",
      "Some characters could not be decoded, and were replaced with REPLACEMENT CHARACTER.\n",
      "Some characters could not be decoded, and were replaced with REPLACEMENT CHARACTER.\n",
      "Some characters could not be decoded, and were replaced with REPLACEMENT CHARACTER.\n",
      "Some characters could not be decoded, and were replaced with REPLACEMENT CHARACTER.\n",
      "Some characters could not be decoded, and were replaced with REPLACEMENT CHARACTER.\n",
      "Some characters could not be decoded, and were replaced with REPLACEMENT CHARACTER.\n",
      "Some characters could not be decoded, and were replaced with REPLACEMENT CHARACTER.\n",
      "Some characters could not be decoded, and were replaced with REPLACEMENT CHARACTER.\n",
      "Some characters could not be decoded, and were replaced with REPLACEMENT CHARACTER.\n",
      "Some characters could not be decoded, and were replaced with REPLACEMENT CHARACTER.\n",
      "Some characters could not be decoded, and were replaced with REPLACEMENT CHARACTER.\n",
      "Some characters could not be decoded, and were replaced with REPLACEMENT CHARACTER.\n",
      "Some characters could not be decoded, and were replaced with REPLACEMENT CHARACTER.\n",
      "Some characters could not be decoded, and were replaced with REPLACEMENT CHARACTER.\n",
      "Some characters could not be decoded, and were replaced with REPLACEMENT CHARACTER.\n",
      "Some characters could not be decoded, and were replaced with REPLACEMENT CHARACTER.\n",
      "Some characters could not be decoded, and were replaced with REPLACEMENT CHARACTER.\n",
      "Some characters could not be decoded, and were replaced with REPLACEMENT CHARACTER.\n",
      "Some characters could not be decoded, and were replaced with REPLACEMENT CHARACTER.\n",
      "Some characters could not be decoded, and were replaced with REPLACEMENT CHARACTER.\n",
      "Some characters could not be decoded, and were replaced with REPLACEMENT CHARACTER.\n",
      "Some characters could not be decoded, and were replaced with REPLACEMENT CHARACTER.\n",
      "Some characters could not be decoded, and were replaced with REPLACEMENT CHARACTER.\n",
      "Some characters could not be decoded, and were replaced with REPLACEMENT CHARACTER.\n",
      "Some characters could not be decoded, and were replaced with REPLACEMENT CHARACTER.\n",
      "Some characters could not be decoded, and were replaced with REPLACEMENT CHARACTER.\n"
     ]
    },
    {
     "name": "stderr",
     "output_type": "stream",
     "text": [
      "Some characters could not be decoded, and were replaced with REPLACEMENT CHARACTER.\n",
      "Some characters could not be decoded, and were replaced with REPLACEMENT CHARACTER.\n",
      "Some characters could not be decoded, and were replaced with REPLACEMENT CHARACTER.\n",
      "Some characters could not be decoded, and were replaced with REPLACEMENT CHARACTER.\n",
      "Some characters could not be decoded, and were replaced with REPLACEMENT CHARACTER.\n",
      "Some characters could not be decoded, and were replaced with REPLACEMENT CHARACTER.\n",
      "Some characters could not be decoded, and were replaced with REPLACEMENT CHARACTER.\n",
      "Some characters could not be decoded, and were replaced with REPLACEMENT CHARACTER.\n",
      "Some characters could not be decoded, and were replaced with REPLACEMENT CHARACTER.\n",
      "Some characters could not be decoded, and were replaced with REPLACEMENT CHARACTER.\n",
      "Some characters could not be decoded, and were replaced with REPLACEMENT CHARACTER.\n",
      "Some characters could not be decoded, and were replaced with REPLACEMENT CHARACTER.\n",
      "Some characters could not be decoded, and were replaced with REPLACEMENT CHARACTER.\n",
      "Some characters could not be decoded, and were replaced with REPLACEMENT CHARACTER.\n",
      "Some characters could not be decoded, and were replaced with REPLACEMENT CHARACTER.\n",
      "Some characters could not be decoded, and were replaced with REPLACEMENT CHARACTER.\n",
      "Some characters could not be decoded, and were replaced with REPLACEMENT CHARACTER.\n",
      "Some characters could not be decoded, and were replaced with REPLACEMENT CHARACTER.\n",
      "Some characters could not be decoded, and were replaced with REPLACEMENT CHARACTER.\n",
      "Some characters could not be decoded, and were replaced with REPLACEMENT CHARACTER.\n",
      "Some characters could not be decoded, and were replaced with REPLACEMENT CHARACTER.\n",
      "Some characters could not be decoded, and were replaced with REPLACEMENT CHARACTER.\n",
      "Some characters could not be decoded, and were replaced with REPLACEMENT CHARACTER.\n",
      "Some characters could not be decoded, and were replaced with REPLACEMENT CHARACTER.\n",
      "Some characters could not be decoded, and were replaced with REPLACEMENT CHARACTER.\n",
      "Some characters could not be decoded, and were replaced with REPLACEMENT CHARACTER.\n",
      "Some characters could not be decoded, and were replaced with REPLACEMENT CHARACTER.\n",
      "Some characters could not be decoded, and were replaced with REPLACEMENT CHARACTER.\n",
      "Some characters could not be decoded, and were replaced with REPLACEMENT CHARACTER.\n",
      "Some characters could not be decoded, and were replaced with REPLACEMENT CHARACTER.\n",
      "Some characters could not be decoded, and were replaced with REPLACEMENT CHARACTER.\n",
      "Some characters could not be decoded, and were replaced with REPLACEMENT CHARACTER.\n",
      "Some characters could not be decoded, and were replaced with REPLACEMENT CHARACTER.\n",
      "Some characters could not be decoded, and were replaced with REPLACEMENT CHARACTER.\n",
      "Some characters could not be decoded, and were replaced with REPLACEMENT CHARACTER.\n",
      "Some characters could not be decoded, and were replaced with REPLACEMENT CHARACTER.\n",
      "Some characters could not be decoded, and were replaced with REPLACEMENT CHARACTER.\n",
      "Some characters could not be decoded, and were replaced with REPLACEMENT CHARACTER.\n",
      "Some characters could not be decoded, and were replaced with REPLACEMENT CHARACTER.\n",
      "Some characters could not be decoded, and were replaced with REPLACEMENT CHARACTER.\n"
     ]
    },
    {
     "data": {
      "text/plain": [
       "353"
      ]
     },
     "execution_count": 29,
     "metadata": {},
     "output_type": "execute_result"
    }
   ],
   "source": [
    "x = []\n",
    "for i,l in enumerate(a):\n",
    "  if l['photo_link'].find('http')==-1 or len(l['photo_link'].strip())==0:\n",
    "    continue\n",
    "  soup = getText(l['photo_link'])\n",
    "  if soup is None:\n",
    "    continue\n",
    "  p = [p.get_text() for p in soup.find_all('p') ]\n",
    "  if len(p)>0:\n",
    "    x.append([p,i])\n",
    "len(x)"
   ]
  },
  {
   "cell_type": "code",
   "execution_count": 30,
   "metadata": {
    "colab": {
     "base_uri": "https://localhost:8080/",
     "height": 34
    },
    "id": "WXRGGg2vRuUT",
    "outputId": "20a366ab-462a-4f8b-9da4-c25b6fc7c7ab"
   },
   "outputs": [
    {
     "data": {
      "text/plain": [
       "353"
      ]
     },
     "execution_count": 30,
     "metadata": {},
     "output_type": "execute_result"
    }
   ],
   "source": [
    "len(x)"
   ]
  },
  {
   "cell_type": "code",
   "execution_count": 31,
   "metadata": {
    "colab": {
     "base_uri": "https://localhost:8080/",
     "height": 156
    },
    "id": "93aRUBIfSmj9",
    "outputId": "596f2501-7f09-473f-9138-41d124f27e79"
   },
   "outputs": [
    {
     "data": {
      "text/plain": [
       "[['canal tv',\n",
       "  '\\xa0',\n",
       "  'Un şofer a tamponat\\xa0o femeie\\xa0pe trecerea de pietoni, la intersecţia bd. Decebal cu strada Trandafirilor.\\xa0Potrivit poliţiei, persoana traumată a fost luată de o ambulanţă şi transportată de urgenţă la spital.\\xa0',\n",
       "  'Alte circumstanţe ale accidentului se stabilesc.\\xa0',\n",
       "  'Dacă ai fost martorul unei situaţii interesante, expediază imaginile surprinse pe adresa\\xa0contact@publika.md\\xa0sau prin intermediul opţiunii\\xa0ŞTIREA TA, de pe site-ul\\xa0PUBLIKA.MD, iar acestea vor fi văzute de o țară întreagă.\\xa0',\n",
       "  'Totodată, puteți să ne trimiteți materiale și pe\\xa0\\xa0sau\\xa0\\xa0Whatsapp la telefonul\\xa0060 88 11 00.'],\n",
       " 1]"
      ]
     },
     "execution_count": 31,
     "metadata": {},
     "output_type": "execute_result"
    }
   ],
   "source": [
    "x[0]"
   ]
  },
  {
   "cell_type": "code",
   "execution_count": 32,
   "metadata": {
    "colab": {
     "base_uri": "https://localhost:8080/",
     "height": 34
    },
    "id": "38Qkwm38jrtI",
    "outputId": "73159a2e-1710-4341-c6f1-6b82341d6dfd"
   },
   "outputs": [
    {
     "data": {
      "text/plain": [
       "'done'"
      ]
     },
     "execution_count": 32,
     "metadata": {},
     "output_type": "execute_result"
    }
   ],
   "source": [
    "with open('../data/raw/generate_data/text_db.csv', 'w', newline='') as file:\n",
    "    writer = csv.writer(file)\n",
    "    writer.writerow([\"id\",\"text\"])\n",
    "    for v,i in x:\n",
    "      writer.writerow([str(i),'###'.join(v)])\n",
    "      \n",
    "'done'"
   ]
  },
  {
   "cell_type": "code",
   "execution_count": 40,
   "metadata": {
    "id": "BlMzYc-qkS6K"
   },
   "outputs": [],
   "source": [
    "\n",
    " with open('../data/raw/generate_data/x.txt', 'w') as outfile:\n",
    "          json.dump(x, outfile)"
   ]
  },
  {
   "cell_type": "code",
   "execution_count": 41,
   "metadata": {
    "colab": {
     "base_uri": "https://localhost:8080/",
     "height": 156
    },
    "id": "YB9SWF-Zlp4I",
    "outputId": "887eee1d-2c94-41d5-9d5c-300d211e4091"
   },
   "outputs": [
    {
     "data": {
      "text/plain": [
       "[['canal tv',\n",
       "  '\\xa0',\n",
       "  'Un şofer a tamponat\\xa0o femeie\\xa0pe trecerea de pietoni, la intersecţia bd. Decebal cu strada Trandafirilor.\\xa0Potrivit poliţiei, persoana traumată a fost luată de o ambulanţă şi transportată de urgenţă la spital.\\xa0',\n",
       "  'Alte circumstanţe ale accidentului se stabilesc.\\xa0',\n",
       "  'Dacă ai fost martorul unei situaţii interesante, expediază imaginile surprinse pe adresa\\xa0contact@publika.md\\xa0sau prin intermediul opţiunii\\xa0ŞTIREA TA, de pe site-ul\\xa0PUBLIKA.MD, iar acestea vor fi văzute de o țară întreagă.\\xa0',\n",
       "  'Totodată, puteți să ne trimiteți materiale și pe\\xa0\\xa0sau\\xa0\\xa0Whatsapp la telefonul\\xa0060 88 11 00.'],\n",
       " 1]"
      ]
     },
     "execution_count": 41,
     "metadata": {},
     "output_type": "execute_result"
    }
   ],
   "source": [
    "with open('../data/raw/generate_data/x.txt') as json_file:\n",
    "    x = json.load(json_file)\n",
    "x[0]"
   ]
  },
  {
   "cell_type": "code",
   "execution_count": 42,
   "metadata": {
    "id": "AnBOwdR0lx2U"
   },
   "outputs": [],
   "source": [
    "import random\n",
    "vector = range(1,10)# [1,2,3,4,5,6,7,8,9]\n",
    "exista = {}\n",
    "for i in range(10000):\n",
    "  numere = []\n",
    "  numar = 1\n",
    "  for index in range(1,9):\n",
    "    semn = random.choice(['+','-','nimic'])\n",
    "    if semn == 'nimic':\n",
    "      numar"
   ]
  },
  {
   "cell_type": "code",
   "execution_count": 43,
   "metadata": {
    "id": "hb9KNDpNysiE"
   },
   "outputs": [],
   "source": [
    "rrl = []\n",
    "with open('../data/raw/generate_data/v.csv', 'w', newline='') as file:\n",
    "    writer = csv.writer(file)\n",
    "    writer.writerow([\"id\",\"text\"])\n",
    "    for v,i in x:\n",
    "      writer.writerow([str(i),'###'.join(v)])\n",
    "      "
   ]
  },
  {
   "cell_type": "code",
   "execution_count": null,
   "metadata": {},
   "outputs": [],
   "source": []
  }
 ],
 "metadata": {
  "colab": {
   "collapsed_sections": [],
   "name": "creare set de date accidente",
   "provenance": []
  },
  "kernelspec": {
   "display_name": "Python 3",
   "language": "python",
   "name": "python3"
  },
  "language_info": {
   "codemirror_mode": {
    "name": "ipython",
    "version": 3
   },
   "file_extension": ".py",
   "mimetype": "text/x-python",
   "name": "python",
   "nbconvert_exporter": "python",
   "pygments_lexer": "ipython3",
   "version": "3.8.2"
  }
 },
 "nbformat": 4,
 "nbformat_minor": 1
}
